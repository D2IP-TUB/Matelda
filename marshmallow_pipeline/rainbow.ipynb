{
 "cells": [
  {
   "cell_type": "code",
   "execution_count": 4,
   "metadata": {},
   "outputs": [],
   "source": [
    "import pickle\n",
    "import pandas as pd\n",
    "import os \n",
    "\n",
    "col_group_res_path = \"/Users/fatemehahmadi/Documents/Github-Private/ED-Scale/marshmallow_pipeline/mediate_files/col_grouping_res\"\n",
    "path_labels = os.path.join(col_group_res_path, 'col_df_labels_cluster_11.pickle')\n",
    "dict_ = pickle.load(open(path_labels, 'rb'))\n",
    "labels_df = pd.DataFrame.from_dict(dict_, orient='index').T\n"
   ]
  },
  {
   "cell_type": "code",
   "execution_count": 5,
   "metadata": {},
   "outputs": [
    {
     "data": {
      "text/html": [
       "<div>\n",
       "<style scoped>\n",
       "    .dataframe tbody tr th:only-of-type {\n",
       "        vertical-align: middle;\n",
       "    }\n",
       "\n",
       "    .dataframe tbody tr th {\n",
       "        vertical-align: top;\n",
       "    }\n",
       "\n",
       "    .dataframe thead th {\n",
       "        text-align: right;\n",
       "    }\n",
       "</style>\n",
       "<table border=\"1\" class=\"dataframe\">\n",
       "  <thead>\n",
       "    <tr style=\"text-align: right;\">\n",
       "      <th></th>\n",
       "      <th>column_cluster_label</th>\n",
       "      <th>col_value</th>\n",
       "      <th>table_id</th>\n",
       "      <th>table_path</th>\n",
       "      <th>table_cluster</th>\n",
       "      <th>col_id</th>\n",
       "    </tr>\n",
       "  </thead>\n",
       "  <tbody>\n",
       "    <tr>\n",
       "      <th>0</th>\n",
       "      <td>0</td>\n",
       "      <td>[1127, 1128, 1128, 1128, 1128, 1128, 1128, 112...</td>\n",
       "      <td>4c8053746e6493695d534b7d1765f6fb</td>\n",
       "      <td>/Users/fatemehahmadi/Documents/Github-Private/...</td>\n",
       "      <td>11</td>\n",
       "      <td>0</td>\n",
       "    </tr>\n",
       "    <tr>\n",
       "      <th>1</th>\n",
       "      <td>1</td>\n",
       "      <td>[194291, 17513, 17513, 17517, 17537, 17545, 17...</td>\n",
       "      <td>4c8053746e6493695d534b7d1765f6fb</td>\n",
       "      <td>/Users/fatemehahmadi/Documents/Github-Private/...</td>\n",
       "      <td>11</td>\n",
       "      <td>1</td>\n",
       "    </tr>\n",
       "    <tr>\n",
       "      <th>2</th>\n",
       "      <td>2</td>\n",
       "      <td>[-9681, -18420, -10047, 24780, 2516, -7515, 40...</td>\n",
       "      <td>4c8053746e6493695d534b7d1765f6fb</td>\n",
       "      <td>/Users/fatemehahmadi/Documents/Github-Private/...</td>\n",
       "      <td>11</td>\n",
       "      <td>2</td>\n",
       "    </tr>\n",
       "    <tr>\n",
       "      <th>3</th>\n",
       "      <td>3</td>\n",
       "      <td>[276241476160264, 276462576171083, 27646497614...</td>\n",
       "      <td>4c8053746e6493695d534b7d1765f6fb</td>\n",
       "      <td>/Users/fatemehahmadi/Documents/Github-Private/...</td>\n",
       "      <td>11</td>\n",
       "      <td>3</td>\n",
       "    </tr>\n",
       "    <tr>\n",
       "      <th>4</th>\n",
       "      <td>3</td>\n",
       "      <td>[276241776060440, 276462876090536, 27646527607...</td>\n",
       "      <td>4c8053746e6493695d534b7d1765f6fb</td>\n",
       "      <td>/Users/fatemehahmadi/Documents/Github-Private/...</td>\n",
       "      <td>11</td>\n",
       "      <td>4</td>\n",
       "    </tr>\n",
       "    <tr>\n",
       "      <th>5</th>\n",
       "      <td>4</td>\n",
       "      <td>[255, 255, 255, 255, 255, 255, 255, 255, 255, ...</td>\n",
       "      <td>4c8053746e6493695d534b7d1765f6fb</td>\n",
       "      <td>/Users/fatemehahmadi/Documents/Github-Private/...</td>\n",
       "      <td>11</td>\n",
       "      <td>5</td>\n",
       "    </tr>\n",
       "  </tbody>\n",
       "</table>\n",
       "</div>"
      ],
      "text/plain": [
       "  column_cluster_label                                          col_value  \\\n",
       "0                    0  [1127, 1128, 1128, 1128, 1128, 1128, 1128, 112...   \n",
       "1                    1  [194291, 17513, 17513, 17517, 17537, 17545, 17...   \n",
       "2                    2  [-9681, -18420, -10047, 24780, 2516, -7515, 40...   \n",
       "3                    3  [276241476160264, 276462576171083, 27646497614...   \n",
       "4                    3  [276241776060440, 276462876090536, 27646527607...   \n",
       "5                    4  [255, 255, 255, 255, 255, 255, 255, 255, 255, ...   \n",
       "\n",
       "                           table_id  \\\n",
       "0  4c8053746e6493695d534b7d1765f6fb   \n",
       "1  4c8053746e6493695d534b7d1765f6fb   \n",
       "2  4c8053746e6493695d534b7d1765f6fb   \n",
       "3  4c8053746e6493695d534b7d1765f6fb   \n",
       "4  4c8053746e6493695d534b7d1765f6fb   \n",
       "5  4c8053746e6493695d534b7d1765f6fb   \n",
       "\n",
       "                                          table_path table_cluster col_id  \n",
       "0  /Users/fatemehahmadi/Documents/Github-Private/...            11      0  \n",
       "1  /Users/fatemehahmadi/Documents/Github-Private/...            11      1  \n",
       "2  /Users/fatemehahmadi/Documents/Github-Private/...            11      2  \n",
       "3  /Users/fatemehahmadi/Documents/Github-Private/...            11      3  \n",
       "4  /Users/fatemehahmadi/Documents/Github-Private/...            11      4  \n",
       "5  /Users/fatemehahmadi/Documents/Github-Private/...            11      5  "
      ]
     },
     "execution_count": 5,
     "metadata": {},
     "output_type": "execute_result"
    }
   ],
   "source": [
    "labels_df"
   ]
  },
  {
   "cell_type": "code",
   "execution_count": 56,
   "metadata": {},
   "outputs": [
    {
     "name": "stdout",
     "output_type": "stream",
     "text": [
      "column_cluster_label 4\n",
      "col_value 4\n",
      "table_id 4\n",
      "table_path 4\n",
      "table_cluster 4\n",
      "col_id 4\n"
     ]
    }
   ],
   "source": [
    "for i in dict_:\n",
    "    print(i, len(dict_[i]))"
   ]
  },
  {
   "cell_type": "code",
   "execution_count": 58,
   "metadata": {},
   "outputs": [
    {
     "ename": "TypeError",
     "evalue": "Population must be a sequence.  For dicts or sets, use sorted(d).",
     "output_type": "error",
     "traceback": [
      "\u001b[0;31m---------------------------------------------------------------------------\u001b[0m",
      "\u001b[0;31mTypeError\u001b[0m                                 Traceback (most recent call last)",
      "Cell \u001b[0;32mIn[58], line 3\u001b[0m\n\u001b[1;32m      1\u001b[0m \u001b[39mfor\u001b[39;00m key \u001b[39min\u001b[39;00m dict_:\n\u001b[1;32m      2\u001b[0m     \u001b[39mfor\u001b[39;00m i \u001b[39min\u001b[39;00m dict_[key]:\n\u001b[0;32m----> 3\u001b[0m         \u001b[39mprint\u001b[39m(random\u001b[39m.\u001b[39;49msample(i, \u001b[39m5\u001b[39;49m))\n\u001b[1;32m      4\u001b[0m     \u001b[39mprint\u001b[39m(\u001b[39m'\u001b[39m\u001b[39m-------------------------------------------------------\u001b[39m\u001b[39m'\u001b[39m)\n",
      "File \u001b[0;32m~/opt/anaconda3/envs/Error-Detection-at-Scale/lib/python3.9/random.py:433\u001b[0m, in \u001b[0;36mRandom.sample\u001b[0;34m(self, population, k, counts)\u001b[0m\n\u001b[1;32m    431\u001b[0m     population \u001b[39m=\u001b[39m \u001b[39mtuple\u001b[39m(population)\n\u001b[1;32m    432\u001b[0m \u001b[39mif\u001b[39;00m \u001b[39mnot\u001b[39;00m \u001b[39misinstance\u001b[39m(population, _Sequence):\n\u001b[0;32m--> 433\u001b[0m     \u001b[39mraise\u001b[39;00m \u001b[39mTypeError\u001b[39;00m(\u001b[39m\"\u001b[39m\u001b[39mPopulation must be a sequence.  For dicts or sets, use sorted(d).\u001b[39m\u001b[39m\"\u001b[39m)\n\u001b[1;32m    434\u001b[0m n \u001b[39m=\u001b[39m \u001b[39mlen\u001b[39m(population)\n\u001b[1;32m    435\u001b[0m \u001b[39mif\u001b[39;00m counts \u001b[39mis\u001b[39;00m \u001b[39mnot\u001b[39;00m \u001b[39mNone\u001b[39;00m:\n",
      "\u001b[0;31mTypeError\u001b[0m: Population must be a sequence.  For dicts or sets, use sorted(d)."
     ]
    }
   ],
   "source": [
    "for key in dict_:\n",
    "    for i in dict_[key]:\n",
    "        print(random.sample(i, 5))\n",
    "    print('-------------------------------------------------------')"
   ]
  },
  {
   "cell_type": "code",
   "execution_count": 44,
   "metadata": {},
   "outputs": [
    {
     "name": "stderr",
     "output_type": "stream",
     "text": [
      "/Users/fatemehahmadi/opt/anaconda3/envs/Error-Detection-at-Scale/lib/python3.9/site-packages/tqdm/auto.py:22: TqdmWarning: IProgress not found. Please update jupyter and ipywidgets. See https://ipywidgets.readthedocs.io/en/stable/user_install.html\n",
      "  from .autonotebook import tqdm as notebook_tqdm\n"
     ]
    },
    {
     "ename": "OSError",
     "evalue": "[E050] Can't find model 'ner'. It doesn't seem to be a Python package or a valid path to a data directory.",
     "output_type": "error",
     "traceback": [
      "\u001b[0;31m---------------------------------------------------------------------------\u001b[0m",
      "\u001b[0;31mOSError\u001b[0m                                   Traceback (most recent call last)",
      "Cell \u001b[0;32mIn[44], line 4\u001b[0m\n\u001b[1;32m      1\u001b[0m \u001b[39mimport\u001b[39;00m \u001b[39mspacy\u001b[39;00m\n\u001b[1;32m      3\u001b[0m \u001b[39m# Load the Spacy model\u001b[39;00m\n\u001b[0;32m----> 4\u001b[0m nlp \u001b[39m=\u001b[39m spacy\u001b[39m.\u001b[39;49mload(\u001b[39m\"\u001b[39;49m\u001b[39mner\u001b[39;49m\u001b[39m\"\u001b[39;49m)\n\u001b[1;32m      5\u001b[0m nlp\u001b[39m.\u001b[39mpipeline\n\u001b[1;32m      6\u001b[0m \u001b[39m# # Print the names and descriptions of all named entity types\u001b[39;00m\n\u001b[1;32m      7\u001b[0m \u001b[39m# for ent_type in nlp.pipe_labels['ner']:\u001b[39;00m\n\u001b[1;32m      8\u001b[0m \u001b[39m#     print(ent_type, spacy.explain(ent_type))\u001b[39;00m\n\u001b[0;32m   (...)\u001b[0m\n\u001b[1;32m     11\u001b[0m \u001b[39m# for g in l:\u001b[39;00m\n\u001b[1;32m     12\u001b[0m \u001b[39m#     print(nlp(g).ents)\u001b[39;00m\n",
      "File \u001b[0;32m~/opt/anaconda3/envs/Error-Detection-at-Scale/lib/python3.9/site-packages/spacy/__init__.py:54\u001b[0m, in \u001b[0;36mload\u001b[0;34m(name, vocab, disable, enable, exclude, config)\u001b[0m\n\u001b[1;32m     30\u001b[0m \u001b[39mdef\u001b[39;00m \u001b[39mload\u001b[39m(\n\u001b[1;32m     31\u001b[0m     name: Union[\u001b[39mstr\u001b[39m, Path],\n\u001b[1;32m     32\u001b[0m     \u001b[39m*\u001b[39m,\n\u001b[0;32m   (...)\u001b[0m\n\u001b[1;32m     37\u001b[0m     config: Union[Dict[\u001b[39mstr\u001b[39m, Any], Config] \u001b[39m=\u001b[39m util\u001b[39m.\u001b[39mSimpleFrozenDict(),\n\u001b[1;32m     38\u001b[0m ) \u001b[39m-\u001b[39m\u001b[39m>\u001b[39m Language:\n\u001b[1;32m     39\u001b[0m \u001b[39m    \u001b[39m\u001b[39m\"\"\"Load a spaCy model from an installed package or a local path.\u001b[39;00m\n\u001b[1;32m     40\u001b[0m \n\u001b[1;32m     41\u001b[0m \u001b[39m    name (str): Package name or model path.\u001b[39;00m\n\u001b[0;32m   (...)\u001b[0m\n\u001b[1;32m     52\u001b[0m \u001b[39m    RETURNS (Language): The loaded nlp object.\u001b[39;00m\n\u001b[1;32m     53\u001b[0m \u001b[39m    \"\"\"\u001b[39;00m\n\u001b[0;32m---> 54\u001b[0m     \u001b[39mreturn\u001b[39;00m util\u001b[39m.\u001b[39;49mload_model(\n\u001b[1;32m     55\u001b[0m         name,\n\u001b[1;32m     56\u001b[0m         vocab\u001b[39m=\u001b[39;49mvocab,\n\u001b[1;32m     57\u001b[0m         disable\u001b[39m=\u001b[39;49mdisable,\n\u001b[1;32m     58\u001b[0m         enable\u001b[39m=\u001b[39;49menable,\n\u001b[1;32m     59\u001b[0m         exclude\u001b[39m=\u001b[39;49mexclude,\n\u001b[1;32m     60\u001b[0m         config\u001b[39m=\u001b[39;49mconfig,\n\u001b[1;32m     61\u001b[0m     )\n",
      "File \u001b[0;32m~/opt/anaconda3/envs/Error-Detection-at-Scale/lib/python3.9/site-packages/spacy/util.py:439\u001b[0m, in \u001b[0;36mload_model\u001b[0;34m(name, vocab, disable, enable, exclude, config)\u001b[0m\n\u001b[1;32m    437\u001b[0m \u001b[39mif\u001b[39;00m name \u001b[39min\u001b[39;00m OLD_MODEL_SHORTCUTS:\n\u001b[1;32m    438\u001b[0m     \u001b[39mraise\u001b[39;00m \u001b[39mIOError\u001b[39;00m(Errors\u001b[39m.\u001b[39mE941\u001b[39m.\u001b[39mformat(name\u001b[39m=\u001b[39mname, full\u001b[39m=\u001b[39mOLD_MODEL_SHORTCUTS[name]))  \u001b[39m# type: ignore[index]\u001b[39;00m\n\u001b[0;32m--> 439\u001b[0m \u001b[39mraise\u001b[39;00m \u001b[39mIOError\u001b[39;00m(Errors\u001b[39m.\u001b[39mE050\u001b[39m.\u001b[39mformat(name\u001b[39m=\u001b[39mname))\n",
      "\u001b[0;31mOSError\u001b[0m: [E050] Can't find model 'ner'. It doesn't seem to be a Python package or a valid path to a data directory."
     ]
    }
   ],
   "source": [
    "import spacy\n",
    "\n",
    "# Load the Spacy model\n",
    "nlp = spacy.load(\"ner\")\n",
    "nlp.pipeline\n",
    "# # Print the names and descriptions of all named entity types\n",
    "# for ent_type in nlp.pipe_labels['ner']:\n",
    "#     print(ent_type, spacy.explain(ent_type))\n",
    "\n",
    "# l = ['Non Fiction', 'Fiction', 'Non Fiction', 'Fiction', 'Fiction']\n",
    "# for g in l:\n",
    "#     print(nlp(g).ents)"
   ]
  },
  {
   "cell_type": "code",
   "execution_count": 102,
   "metadata": {},
   "outputs": [
    {
     "name": "stdout",
     "output_type": "stream",
     "text": [
      "Two CARDINAL\n",
      "1948 - 1977 DATE\n",
      "Amazing Spider-Girl PERSON\n",
      "2006 - 2009 DATE\n",
      "The Amazing Spider-Man ORG\n",
      "1963 - 1998 DATE\n",
      "Uncanny X-Men PERSON\n",
      "2011 - 2012 DATE\n"
     ]
    }
   ],
   "source": [
    "from spacy.pipeline.ner import DEFAULT_NER_MODEL\n",
    "config = {\n",
    "   \"moves\": None,\n",
    "   \"update_with_oracle_cut_size\": 100,\n",
    "   \"model\": DEFAULT_NER_MODEL,\n",
    "   \"incorrect_spans_key\": \"incorrect_spans\",\n",
    "}\n",
    "l = ['Two-Gun Kid (1948 - 1977)', 'Amazing Spider-Girl (2006 - 2009)', 'The Amazing Spider-Man (1963 - 1998)', 'Uncanny X-Men (2011 - 2012)', \"X-Men '92 (2016)\"]\n",
    "\n",
    "for g in l:\n",
    "    for e in nlp(g).ents:\n",
    "         print(e.text, e.label_)\n"
   ]
  },
  {
   "cell_type": "code",
   "execution_count": 29,
   "metadata": {},
   "outputs": [],
   "source": [
    "c = ['Angie Grace', 'George R.R. Martin', 'Marty Noble', 'School Zone', 'Amy Shields', 'William P. Young', 'Rick Riordan', 'Kristin Hannah', 'Gallup', 'J.K. Rowling']"
   ]
  },
  {
   "cell_type": "code",
   "execution_count": 30,
   "metadata": {},
   "outputs": [
    {
     "name": "stdout",
     "output_type": "stream",
     "text": [
      "Angie Grace PERSON\n",
      "George R.R. Martin PERSON\n",
      "Marty Noble PERSON\n",
      "Amy Shields PERSON\n",
      "William P. Young PERSON\n",
      "Rick Riordan PERSON\n",
      "Kristin Hannah PERSON\n",
      "Gallup ORG\n",
      "J.K. GPE\n"
     ]
    }
   ],
   "source": [
    "for d in c:\n",
    "    d = nlp(d)\n",
    "    for ent in d.ents:\n",
    "        print(ent.text, ent.label_)"
   ]
  },
  {
   "cell_type": "code",
   "execution_count": null,
   "metadata": {},
   "outputs": [],
   "source": []
  }
 ],
 "metadata": {
  "kernelspec": {
   "display_name": "Error-Detection-at-Scale",
   "language": "python",
   "name": "python3"
  },
  "language_info": {
   "codemirror_mode": {
    "name": "ipython",
    "version": 3
   },
   "file_extension": ".py",
   "mimetype": "text/x-python",
   "name": "python",
   "nbconvert_exporter": "python",
   "pygments_lexer": "ipython3",
   "version": "3.9.15"
  },
  "orig_nbformat": 4,
  "vscode": {
   "interpreter": {
    "hash": "5394c91fb5c1371d52b9e1755fc7c5897f0d08c29c1797ff77a01cb59e334106"
   }
  }
 },
 "nbformat": 4,
 "nbformat_minor": 2
}
