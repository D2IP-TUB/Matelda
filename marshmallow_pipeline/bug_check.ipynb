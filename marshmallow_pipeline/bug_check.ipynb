{
 "cells": [
  {
   "cell_type": "code",
   "execution_count": 3,
   "metadata": {},
   "outputs": [
    {
     "data": {
      "text/plain": [
       "{'n_samples': 49,\n",
       " 'total_recall': 0.00040978008468788414,\n",
       " 'total_precision': 1.0,\n",
       " 'total_fscore': 0.0008192244675040961,\n",
       " 'total_tp': 3,\n",
       " 'total_fp': 0,\n",
       " 'total_tn': 451644,\n",
       " 'total_fn': 7318}"
      ]
     },
     "execution_count": 3,
     "metadata": {},
     "output_type": "execute_result"
    }
   ],
   "source": [
    "import pickle \n",
    "import pandas as pd\n",
    "\n",
    "def load_pickle(path):\n",
    "    with open(path, 'rb') as f:\n",
    "        return pickle.load(f)\n",
    "\n",
    "path = \"/home/fatemeh/ED-Scale/marshmallow_pipeline/output/kaggle-dataset/kaggle-bug-fix-0/_k-bug-fix-0-cd-def_49_labels/results/scores_all.pickle\"\n",
    "df = load_pickle(path)\n",
    "df"
   ]
  },
  {
   "cell_type": "code",
   "execution_count": 2,
   "metadata": {},
   "outputs": [
    {
     "name": "stdout",
     "output_type": "stream",
     "text": [
      "7321 458965 0.01595110738291591\n"
     ]
    }
   ],
   "source": [
    "err = df['total_tp'] + df['total_fn']\n",
    "all = df['total_tp'] + df['total_fp'] + df['total_fn'] + df['total_tn']\n",
    "\n",
    "print(err, all, err/all)"
   ]
  },
  {
   "cell_type": "code",
   "execution_count": 5,
   "metadata": {},
   "outputs": [
    {
     "data": {
      "text/plain": [
       "dict_keys(['col_cluster', 'original_data_keys_temp', 'value_temp', 'X_temp', 'y_temp', 'key_temp', 'datacells_uids'])"
      ]
     },
     "execution_count": 5,
     "metadata": {},
     "output_type": "execute_result"
    }
   ],
   "source": [
    "df[0][6].keys()"
   ]
  },
  {
   "cell_type": "code",
   "execution_count": 8,
   "metadata": {},
   "outputs": [],
   "source": [
    "cells = 0\n",
    "\n",
    "for t in df:\n",
    "    for c in df[t]:\n",
    "\n",
    "        cells += len(df[t][c][\"original_data_keys_temp\"])"
   ]
  },
  {
   "cell_type": "code",
   "execution_count": 9,
   "metadata": {},
   "outputs": [
    {
     "data": {
      "text/plain": [
       "458965"
      ]
     },
     "execution_count": 9,
     "metadata": {},
     "output_type": "execute_result"
    }
   ],
   "source": [
    "cells"
   ]
  },
  {
   "cell_type": "code",
   "execution_count": null,
   "metadata": {},
   "outputs": [],
   "source": [
    "col_clusters = range(0, 32)\n",
    "\n",
    "path = \"/home/fatemeh/ED-Scale/marshmallow_pipeline/output/kaggle-dataset/kaggle-debug/_kaggle-debug_98_labels/results\"\n",
    "\n",
    "for c in col_clusters:\n",
    "    "
   ]
  },
  {
   "cell_type": "code",
   "execution_count": 25,
   "metadata": {},
   "outputs": [],
   "source": [
    "path = \"/home/fatemeh/ED-Scale/marshmallow_pipeline/output/kaggle-dataset/kaggle-debug/_kaggle-debug_98_labels/cell_cluster_cells_dict_all.pickle\"\n",
    "\n",
    "cells_dict = load_pickle(path)\n"
   ]
  },
  {
   "cell_type": "code",
   "execution_count": 28,
   "metadata": {},
   "outputs": [
    {
     "data": {
      "text/plain": [
       "dict_keys(['col_cluster', 'original_data_keys_temp', 'value_temp', 'X_temp', 'y_temp', 'key_temp', 'datacells_uids'])"
      ]
     },
     "execution_count": 28,
     "metadata": {},
     "output_type": "execute_result"
    }
   ],
   "source": [
    "cells_dict[0][6].keys()"
   ]
  },
  {
   "cell_type": "code",
   "execution_count": 30,
   "metadata": {},
   "outputs": [
    {
     "data": {
      "text/plain": [
       "104976"
      ]
     },
     "execution_count": 30,
     "metadata": {},
     "output_type": "execute_result"
    }
   ],
   "source": [
    "len(cells_dict[0][6]['datacells_uids'])"
   ]
  },
  {
   "cell_type": "code",
   "execution_count": 7,
   "metadata": {},
   "outputs": [],
   "source": [
    "import pandas as pd\n",
    "\n",
    "train_df = pd.read_csv(\"/home/fatemeh/ED-Scale/marshmallow_pipeline/datasets/kaggle-eight/aggregated_kaggle_lake/2.csv\")\n",
    "text_series = train_df.apply(lambda x: ' '.join(x.astype(str).values), axis=1)\n",
    "# tokenize the text in each row of the Series and concatenate the resulting Series\n",
    "tokens = text_series.str.split().explode()\n",
    "# count the frequency of each token\n",
    "token_counts = tokens.value_counts()"
   ]
  },
  {
   "cell_type": "code",
   "execution_count": 8,
   "metadata": {},
   "outputs": [
    {
     "data": {
      "text/plain": [
       "min        1000\n",
       "nan         477\n",
       "Drama,      440\n",
       "Drama       259\n",
       "U           234\n",
       "           ... \n",
       "450349        1\n",
       "Gwilym        1\n",
       "Boynton       1\n",
       "Malek         1\n",
       "51853         1\n",
       "Name: count, Length: 8145, dtype: int64"
      ]
     },
     "execution_count": 8,
     "metadata": {},
     "output_type": "execute_result"
    }
   ],
   "source": [
    "token_counts"
   ]
  },
  {
   "cell_type": "code",
   "execution_count": null,
   "metadata": {},
   "outputs": [],
   "source": []
  }
 ],
 "metadata": {
  "kernelspec": {
   "display_name": "Error-Detection-at-Scale",
   "language": "python",
   "name": "python3"
  },
  "language_info": {
   "codemirror_mode": {
    "name": "ipython",
    "version": 3
   },
   "file_extension": ".py",
   "mimetype": "text/x-python",
   "name": "python",
   "nbconvert_exporter": "python",
   "pygments_lexer": "ipython3",
   "version": "3.10.8"
  },
  "orig_nbformat": 4
 },
 "nbformat": 4,
 "nbformat_minor": 2
}
