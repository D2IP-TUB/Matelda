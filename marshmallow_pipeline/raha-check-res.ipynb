{
 "cells": [
  {
   "cell_type": "code",
   "execution_count": 2,
   "metadata": {},
   "outputs": [],
   "source": [
    "import pandas as pd\n",
    "import json\n",
    "import os\n",
    "\n",
    "repition = range(1, 4)\n",
    "labeling_budgets = range(1, 2)\n",
    "sandbox_path = \"/home/fatemeh/ED-Scale/Old_Files/Benchmarks/kaggle_sample_dataset/separated_kaggle_lake/kaggle_sample_sandbox\"\n",
    "results_path = \"/home/fatemeh/ED-Scale/Old_Files/Benchmarks/kaggle_sample_dataset/results\"\n",
    "dir_levels = 1 # That means we have files in each subdirectory of sandbox dir\n",
    "# datasets = [\"best_sellers\", \"1\", \"2\", \"cou_1\", \"cou_2\", \"disney\", \"imdb\", \"marvels\"]\n",
    "datasets = []\n",
    "algorithm = 'raha'\n",
    "\n",
    "\n",
    "if dir_levels == 1:\n",
    "    for dir in os.listdir(sandbox_path):\n",
    "        datasets.append(dir)\n",
    "\n",
    "# \"actuall_errors_json\":[]\n",
    "\n",
    "results_dict = {\"algorithm\":[], \"dataset\":[], \"execution_number\":[], \n",
    "              \"precision\": [], \"recall\": [], \"f_score\": [],\n",
    "                \"tp\": [], \"ed_tpfp\": [], \"ed_tpfn\": [], \"execution_time\": [],\n",
    "                 \"number_of_labeled_tuples\": [], \"number_of_labeled_cells\": [], \"detected_errors_keys\":[]}\n",
    "count = 0 \n",
    "d = []\n",
    "no_errors_files = []\n",
    "raha_erros_file = []\n",
    "for i in repition:\n",
    "    for dataset in datasets:\n",
    "        if dataset not in no_errors_files and dataset not in raha_erros_file:\n",
    "            for label_budget in labeling_budgets:\n",
    "                # \"/{}_labels_{}_execution\".format(label_budget, i) +\n",
    "                file_path = results_path + '/{}_{}_number#{}_${}$labels.json'\\\n",
    "                            .format(algorithm, dataset, str(i), str(label_budget))\n",
    "                # print(file_path)\n",
    "                if os.path.exists(file_path):\n",
    "                    with open(file_path) as file:\n",
    "                        json_content = json.load(file)\n",
    "                        results_dict['algorithm'].append(algorithm)\n",
    "                        results_dict['dataset'].append(dataset)\n",
    "                        # results_dict['dataset_shape'].append(json_content['dataset_shape'])\n",
    "                        results_dict['execution_number'].append(i)\n",
    "                        results_dict['precision'].append(json_content['precision'])\n",
    "                        results_dict['recall'].append(json_content['recall'])\n",
    "                        results_dict['f_score'].append(json_content['f_score'])\n",
    "                        results_dict['tp'].append(json_content['tp'])\n",
    "                        results_dict['ed_tpfp'].append(json_content['ed_tpfp'])\n",
    "                        results_dict['ed_tpfn'].append(json_content['ed_tpfn'])\n",
    "                        results_dict['execution_time'].append(json_content['execution-time'])\n",
    "                        results_dict['number_of_labeled_tuples'].append(json_content['number_of_labeled_tuples'])\n",
    "                        results_dict['number_of_labeled_cells'].append(json_content['number_of_labeled_cells'])\n",
    "                        # results_dict['actuall_errors_json'].append(json_content['actuall_errors_json'])\n",
    "                        results_dict['detected_errors_keys'].append(json_content['detected_errors_keys'])\n",
    "                else:\n",
    "                    print(\"The file does not exist: {}\".format(file_path))\n",
    "                    print()\n",
    "        \n",
    "result_df = pd.DataFrame.from_dict(results_dict)\n",
    "# result_df.to_csv(\"/Users/fatemehahmadi/Documents/Github-Private/ED-Scale/marshmallow_pipeline/kaggle_raha/raha-dtype-orig/results_all_{}.csv\".format(algorithm))\n"
   ]
  },
  {
   "cell_type": "code",
   "execution_count": 3,
   "metadata": {},
   "outputs": [
    {
     "name": "stdout",
     "output_type": "stream",
     "text": [
      "0.1322314049586777 0.002902757619738752 0.005680809515355939\n",
      "98\n",
      "0.12833333333333333 0.006984760522496371 0.01324845147969718\n",
      "98\n",
      "0.098969129923245 0.32048258345428154 0.1512349642566671\n",
      "98\n",
      "0.11984462273841867 0.11012336719883888 0.05672140841724008\n"
     ]
    }
   ],
   "source": [
    "pp, rr, ff = 0, 0, 0\n",
    "for i in range(1, 4):\n",
    "    df = result_df[result_df['execution_number'] == i]\n",
    "    p = sum(df['tp'])/(sum(df['ed_tpfp']))\n",
    "    r = sum(df['tp'])/(sum(df['ed_tpfn']))\n",
    "    f_score = 2*p*r/(p+r)\n",
    "    print(p, r, f_score)\n",
    "    pp += p\n",
    "    rr += r\n",
    "    ff += f_score\n",
    "print(pp/3, rr/3, ff/3)"
   ]
  },
  {
   "cell_type": "code",
   "execution_count": null,
   "metadata": {},
   "outputs": [],
   "source": []
  }
 ],
 "metadata": {
  "kernelspec": {
   "display_name": "Error-Detection-at-Scale",
   "language": "python",
   "name": "python3"
  },
  "language_info": {
   "codemirror_mode": {
    "name": "ipython",
    "version": 3
   },
   "file_extension": ".py",
   "mimetype": "text/x-python",
   "name": "python",
   "nbconvert_exporter": "python",
   "pygments_lexer": "ipython3",
   "version": "3.10.8"
  },
  "orig_nbformat": 4
 },
 "nbformat": 4,
 "nbformat_minor": 2
}
