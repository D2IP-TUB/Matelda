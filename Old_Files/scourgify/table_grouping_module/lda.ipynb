{
 "cells": [
  {
   "cell_type": "code",
   "execution_count": 6,
   "metadata": {},
   "outputs": [
    {
     "name": "stdout",
     "output_type": "stream",
     "text": [
      "Topic 0:\n",
      "['usd', 'gb', 'price', 'average', 'genre', 'start', 'mbitsookla', 'expensive', 'days', 'cheapest']\n",
      "\n",
      "\n",
      "Topic 1:\n",
      "['star', 'country', 'internet', 'users', 'released_year', 'continental', 'date', 'code', 'updated', 'provincestate']\n",
      "\n",
      "\n"
     ]
    },
    {
     "name": "stderr",
     "output_type": "stream",
     "text": [
      "/Users/fatemehahmadi/opt/anaconda3/envs/Error-Detection-at-Scale/lib/python3.9/site-packages/sklearn/utils/deprecation.py:87: FutureWarning: Function get_feature_names is deprecated; get_feature_names is deprecated in 1.0 and will be removed in 1.2. Please use get_feature_names_out instead.\n",
      "  warnings.warn(msg, category=FutureWarning)\n"
     ]
    }
   ],
   "source": [
    "import pandas as pd\n",
    "import numpy as np\n",
    "import re\n",
    "import nltk\n",
    "from nltk.corpus import stopwords\n",
    "from sklearn.decomposition import LatentDirichletAllocation\n",
    "from sklearn.feature_extraction.text import CountVectorizer\n",
    "\n",
    "# Load the table data\n",
    "df_1 = pd.read_csv('/Users/fatemehahmadi/Documents/Github-Private/ED-Scale/scourgify/tests/kaggle_sand/imdb/dirty_clean.csv')\n",
    "df_2 = pd.read_csv('/Users/fatemehahmadi/Documents/Github-Private/ED-Scale/scourgify/tests/kaggle_sand/best_sellers/dirty_clean.csv')\n",
    "df_3 = pd.read_csv('/Users/fatemehahmadi/Documents/Github-Private/ED-Scale/scourgify/tests/kaggle_sand/c_1/dirty_clean.csv')\n",
    "df_4 = pd.read_csv('/Users/fatemehahmadi/Documents/Github-Private/ED-Scale/scourgify/tests/kaggle_sand/cov_1/dirty_clean.csv')\n",
    "\n",
    "# Extract the column headers\n",
    "headers = df_1.columns.values.tolist()\n",
    "headers.extend(df_2.columns.values.tolist())\n",
    "headers.extend(df_3.columns.values.tolist())\n",
    "headers.extend(df_4.columns.values.tolist())\n",
    "\n",
    "# Define a function to clean the headers\n",
    "def clean_text(text):\n",
    "    text = re.sub(r'[^\\w\\s]', '', text) # Remove punctuation\n",
    "    text = re.sub(r'\\d+', '', text) # Remove numbers\n",
    "    text = text.lower() # Convert to lowercase\n",
    "    text = ' '.join([word for word in text.split() if word not in stopwords.words('english')]) # Remove stopwords\n",
    "    return text\n",
    "\n",
    "# Clean the headers\n",
    "clean_headers = [clean_text(header) for header in headers]\n",
    "\n",
    "# Define the vectorizer\n",
    "vectorizer = CountVectorizer(max_features=1000, stop_words='english')\n",
    "\n",
    "# Vectorize the headers\n",
    "header_vectors = vectorizer.fit_transform(clean_headers)\n",
    "\n",
    "# Define the LDA model\n",
    "lda_model = LatentDirichletAllocation(n_components=2, max_iter=10, learning_method='online')\n",
    "\n",
    "# Fit the model to the header vectors\n",
    "lda_model.fit(header_vectors)\n",
    "\n",
    "# Print the top 10 words for each topic\n",
    "for i, topic in enumerate(lda_model.components_):\n",
    "    print(f'Topic {i}:')\n",
    "    print([vectorizer.get_feature_names()[j] for j in topic.argsort()[:-11:-1]])\n",
    "    print('\\n')\n"
   ]
  },
  {
   "cell_type": "code",
   "execution_count": null,
   "metadata": {},
   "outputs": [],
   "source": []
  }
 ],
 "metadata": {
  "kernelspec": {
   "display_name": "Error-Detection-at-Scale",
   "language": "python",
   "name": "python3"
  },
  "language_info": {
   "codemirror_mode": {
    "name": "ipython",
    "version": 3
   },
   "file_extension": ".py",
   "mimetype": "text/x-python",
   "name": "python",
   "nbconvert_exporter": "python",
   "pygments_lexer": "ipython3",
   "version": "3.9.15"
  },
  "orig_nbformat": 4,
  "vscode": {
   "interpreter": {
    "hash": "5394c91fb5c1371d52b9e1755fc7c5897f0d08c29c1797ff77a01cb59e334106"
   }
  }
 },
 "nbformat": 4,
 "nbformat_minor": 2
}
