{
 "cells": [
  {
   "cell_type": "code",
   "execution_count": 7,
   "metadata": {},
   "outputs": [],
   "source": [
    "import pandas as pd\n",
    "import pickle\n",
    "import random "
   ]
  },
  {
   "cell_type": "code",
   "execution_count": 5,
   "metadata": {},
   "outputs": [],
   "source": [
    "number_of_col_clusters = {}\n",
    "col_groups = 0\n",
    "total_col_groups = 0\n",
    "cluster_sizes = {}\n",
    "\n",
    "for i in range(64):\n",
    "    path = '/Users/fatemehahmadi/Documents/Github-Private/ED-Scale/scourgify/mediate_files/cols_per_cluster_{}.pkl'.format(i)\n",
    "    path_labels = '/Users/fatemehahmadi/Documents/Github-Private/ED-Scale/scourgify/mediate_files/col_df_labels_cluster_{}.pickle'.format(i)\n",
    "    dict_ = pickle.load(open(path, 'rb'))\n",
    "    dict_labels = pickle.load(open(path_labels, 'rb'))\n",
    "    labels_df = pd.DataFrame.from_dict(dict_labels, orient='index').T\n",
    "    col_clusters = set(labels_df['column_cluster_label'])\n",
    "    number_of_col_clusters[str(i)] = len(col_clusters)\n",
    "    cluster_sizes[str(i)] = {}\n",
    "    for cc in col_clusters:\n",
    "        cluster_sizes[str(i)][str(cc)] = 0\n",
    "        df = labels_df[labels_df['column_cluster_label'] == cc]\n",
    "        for idx, row in df.iterrows():\n",
    "            cluster_sizes[str(i)][str(cc)] += len(row['col_value'])"
   ]
  },
  {
   "cell_type": "code",
   "execution_count": 6,
   "metadata": {},
   "outputs": [
    {
     "name": "stdout",
     "output_type": "stream",
     "text": [
      "{'0': 7, '1': 5, '2': 11, '3': 20, '4': 8, '5': 6, '6': 5, '7': 5, '8': 13, '9': 9, '10': 4, '11': 5, '12': 10, '13': 18, '14': 9, '15': 6, '16': 8, '17': 12, '18': 6, '19': 7, '20': 6, '21': 5, '22': 16, '23': 6, '24': 11, '25': 14, '26': 8, '27': 22, '28': 6, '29': 6, '30': 10, '31': 4, '32': 12, '33': 40, '34': 3, '35': 6, '36': 12, '37': 6, '38': 6, '39': 4, '40': 13, '41': 5, '42': 4, '43': 3, '44': 8, '45': 5, '46': 6, '47': 5, '48': 5, '49': 9, '50': 3, '51': 4, '52': 7, '53': 6, '54': 8, '55': 5, '56': 3, '57': 42, '58': 6, '59': 6, '60': 9, '61': 21, '62': 2, '63': 4}\n",
      "{'0': {'0': 259555, '1': 48586, '2': 610060, '3': 290341, '4': 404155, '5': 143879, '6': 7225}, '1': {'0': 52, '1': 52, '2': 52, '3': 52, '4': 52}, '2': {'0': 8557, '1': 16122, '2': 690316, '3': 445, '4': 20507, '5': 377393, '6': 629183, '7': 133, '8': 6847, '9': 1302, '10': 304256}, '3': {'0': 554, '1': 43234, '2': 50621, '3': 555, '4': 626, '5': 626, '6': 1806, '7': 1829, '8': 1838, '9': 1830, '10': 555, '11': 2779, '12': 2779, '13': 552, '14': 3460, '15': 554, '16': 552, '17': 84932, '18': 554, '19': 531}, '4': {'0': 11591, '1': 10752, '2': 46625, '3': 4767, '4': 20061, '5': 3240, '6': 50163, '7': 624}, '5': {'0': 248, '1': 248, '2': 248, '3': 248, '4': 248, '5': 248}, '6': {'0': 148480, '1': 74240, '2': 74240, '3': 74240, '4': 74240}, '7': {'0': 62427, '1': 128, '2': 124082, '3': 186316, '4': 186381}, '8': {'0': 506, '1': 506, '2': 506, '3': 506, '4': 506, '5': 1518, '6': 1518, '7': 506, '8': 506, '9': 506, '10': 506, '11': 506, '12': 506}, '9': {'0': 899, '1': 4495, '2': 899, '3': 8990, '4': 899, '5': 1798, '6': 3596, '7': 3596, '8': 899}, '10': {'0': 2202, '1': 2202, '2': 2202, '3': 2202}, '11': {'0': 49110, '1': 49110, '2': 49110, '3': 98220, '4': 49110}, '12': {'0': 7980, '1': 7980, '2': 7980, '3': 7980, '4': 7980, '5': 7980, '6': 7980, '7': 7980, '8': 7980, '9': 7980}, '13': {'0': 988, '1': 988, '2': 988, '3': 988, '4': 12287, '5': 988, '6': 988, '7': 988, '8': 988, '9': 1976, '10': 11299, '11': 11299, '12': 23586, '13': 11299, '14': 11299, '15': 12287, '16': 11299, '17': 11299}, '14': {'0': 42, '1': 784, '2': 742, '3': 742, '4': 952, '5': 1568, '6': 742, '7': 84, '8': 84}, '15': {'0': 478, '1': 478, '2': 478, '3': 478, '4': 478, '5': 478}, '16': {'0': 1279, '1': 1279, '2': 1279, '3': 1279, '4': 2558, '5': 1279, '6': 1279, '7': 1279}, '17': {'0': 3705, '1': 3705, '2': 3705, '3': 3705, '4': 3705, '5': 14820, '6': 3705, '7': 3705, '8': 3705, '9': 3705, '10': 7410, '11': 11115}, '18': {'0': 61802, '1': 61802, '2': 61802, '3': 61802, '4': 61802, '5': 61802}, '19': {'0': 1683, '1': 561, '2': 2805, '3': 561, '4': 561, '5': 1122, '6': 561}, '20': {'0': 5427, '1': 3618, '2': 5427, '3': 5427, '4': 1809, '5': 3618}, '21': {'0': 840, '1': 420, '2': 420, '3': 420, '4': 420}, '22': {'0': 1425, '1': 1425, '2': 286, '3': 286, '4': 286, '5': 1425, '6': 607, '7': 607, '8': 607, '9': 607, '10': 532, '11': 8114, '12': 532, '13': 532, '14': 532, '15': 10146}, '23': {'0': 108, '1': 108, '2': 108, '3': 108, '4': 108, '5': 108}, '24': {'0': 471, '1': 942, '2': 942, '3': 942, '4': 471, '5': 1413, '6': 471, '7': 471, '8': 942, '9': 471, '10': 471}, '25': {'0': 226, '1': 452, '2': 226, '3': 226, '4': 226, '5': 226, '6': 226, '7': 226, '8': 226, '9': 226, '10': 452, '11': 226, '12': 226, '13': 226}, '26': {'0': 80083, '1': 50011, '2': 50011, '3': 160166, '4': 50011, '5': 30072, '6': 30072, '7': 130094}, '27': {'0': 90, '1': 180, '2': 90, '3': 90, '4': 720, '5': 90, '6': 90, '7': 90, '8': 90, '9': 90, '10': 90, '11': 90, '12': 90, '13': 90, '14': 90, '15': 90, '16': 90, '17': 90, '18': 90, '19': 90, '20': 90, '21': 90}, '28': {'0': 49329, '1': 49329, '2': 49329, '3': 49329, '4': 49329, '5': 49329}, '29': {'0': 4637, '1': 4637, '2': 9274, '3': 4637, '4': 4637, '5': 4637}, '30': {'0': 2925, '1': 975, '2': 975, '3': 975, '4': 975, '5': 975, '6': 975, '7': 1950, '8': 1950, '9': 1950}, '31': {'0': 110, '1': 110, '2': 110, '3': 110}, '32': {'0': 2360, '1': 2360, '2': 236, '3': 236, '4': 236, '5': 236, '6': 236, '7': 3540, '8': 236, '9': 236, '10': 236, '11': 708}, '33': {'0': 273, '1': 273, '2': 273, '3': 273, '4': 273, '5': 273, '6': 273, '7': 273, '8': 273, '9': 273, '10': 273, '11': 273, '12': 2730, '13': 273, '14': 273, '15': 273, '16': 273, '17': 273, '18': 273, '19': 273, '20': 273, '21': 1092, '22': 273, '23': 273, '24': 273, '25': 273, '26': 546, '27': 819, '28': 273, '29': 273, '30': 273, '31': 273, '32': 819, '33': 2730, '34': 273, '35': 273, '36': 273, '37': 273, '38': 273, '39': 273}, '34': {'0': 108, '1': 108, '2': 108}, '35': {'0': 5946, '1': 11892, '2': 5946, '3': 5946, '4': 5946, '5': 11892}, '36': {'0': 7960, '1': 15920, '2': 15920, '3': 7960, '4': 15920, '5': 7960, '6': 7960, '7': 15920, '8': 7960, '9': 7960, '10': 7960, '11': 7960}, '37': {'0': 49114, '1': 49114, '2': 49114, '3': 49114, '4': 49114, '5': 49114}, '38': {'0': 319, '1': 319, '2': 638, '3': 319, '4': 319, '5': 319}, '39': {'0': 33739, '1': 33739, '2': 33739, '3': 33739}, '40': {'0': 17040, '1': 8520, '2': 17040, '3': 8520, '4': 8520, '5': 8520, '6': 8520, '7': 8520, '8': 8520, '9': 25560, '10': 34080, '11': 8520, '12': 17040}, '41': {'0': 61, '1': 61, '2': 61, '3': 61, '4': 61}, '42': {'0': 2139, '1': 2139, '2': 2139, '3': 2139}, '43': {'0': 658, '1': 658, '2': 658}, '44': {'0': 45716, '1': 91432, '2': 45716, '3': 91432, '4': 45716, '5': 45716, '6': 45716, '7': 45716}, '45': {'0': 53698, '1': 53698, '2': 53698, '3': 107396, '4': 53698}, '46': {'0': 42, '1': 42, '2': 42, '3': 42, '4': 42, '5': 42}, '47': {'0': 25664, '1': 12832, '2': 25664, '3': 12832, '4': 25664}, '48': {'0': 49340, '1': 49340, '2': 49340, '3': 98680, '4': 49340}, '49': {'0': 28630, '1': 14315, '2': 14315, '3': 28630, '4': 28630, '5': 57260, '6': 28630, '7': 14315, '8': 14315}, '50': {'0': 1396, '1': 1396, '2': 1396}, '51': {'0': 12362, '1': 12362, '2': 12362, '3': 12362}, '52': {'0': 2387, '1': 2387, '2': 2387, '3': 2387, '4': 2387, '5': 2387, '6': 4774}, '53': {'0': 63, '1': 63, '2': 63, '3': 63, '4': 63, '5': 63}, '54': {'0': 178, '1': 178, '2': 178, '3': 178, '4': 178, '5': 356, '6': 178, '7': 178}, '55': {'0': 398, '1': 398, '2': 796, '3': 398, '4': 398}, '56': {'0': 57, '1': 57, '2': 57}, '57': {'0': 21010, '1': 1043, '2': 1043, '3': 1043, '4': 1043, '5': 4202, '6': 1043, '7': 1043, '8': 1043, '9': 1043, '10': 1043, '11': 1043, '12': 1043, '13': 1043, '14': 1043, '15': 1043, '16': 1043, '17': 1043, '18': 1043, '19': 1043, '20': 1043, '21': 1058, '22': 2101, '23': 1058, '24': 1058, '25': 1058, '26': 1058, '27': 1058, '28': 1058, '29': 1058, '30': 1058, '31': 1058, '32': 1058, '33': 1058, '34': 1058, '35': 1058, '36': 1058, '37': 1058, '38': 1058, '39': 1058, '40': 1058, '41': 2101}, '58': {'0': 63, '1': 63, '2': 63, '3': 63, '4': 63, '5': 63}, '59': {'0': 222, '1': 222, '2': 444, '3': 222, '4': 222, '5': 222}, '60': {'0': 3321, '1': 6642, '2': 3321, '3': 6642, '4': 3321, '5': 3321, '6': 3321, '7': 3321, '8': 9963}, '61': {'0': 120, '1': 120, '2': 120, '3': 240, '4': 120, '5': 120, '6': 120, '7': 120, '8': 120, '9': 120, '10': 120, '11': 120, '12': 600, '13': 120, '14': 120, '15': 120, '16': 120, '17': 120, '18': 120, '19': 120, '20': 120}, '62': {'0': 190, '1': 190}, '63': {'0': 70, '1': 70, '2': 70, '3': 70}}\n"
     ]
    }
   ],
   "source": [
    "print(number_of_col_clusters)\n",
    "print(cluster_sizes)"
   ]
  },
  {
   "cell_type": "code",
   "execution_count": 9,
   "metadata": {},
   "outputs": [
    {
     "name": "stdout",
     "output_type": "stream",
     "text": [
      "{'0': 4, '1': 3, '2': 2, '3': 4, '4': 4, '5': 3, '6': 6, '7': 2, '8': 6, '9': 3, '10': 4, '11': 2, '12': 8, '13': 7, '14': 3, '15': 6, '16': 5, '17': 6, '18': 2, '19': 3, '20': 4, '21': 3, '22': 5, '23': 5, '24': 8, '25': 6, '26': 3, '27': 5, '28': 2, '29': 4, '30': 6, '31': 4, '32': 3, '33': 8, '34': 3, '35': 4, '36': 6, '37': 2, '38': 3, '39': 4, '40': 4, '41': 3, '42': 4, '43': 3, '44': 4, '45': 2, '46': 5, '47': 4, '48': 2, '49': 4, '50': 3, '51': 4, '52': 6, '53': 3, '54': 4, '55': 4, '56': 3, '57': 5, '58': 4, '59': 4, '60': 5, '61': 6, '62': 2, '63': 4}\n",
      "{'0': {'0': 52, '1': 52, '2': 52, '3': 104}, '1': {'0': 191393, '1': 914851, '2': 657557}, '2': {'0': 248743, '1': 310591}, '3': {'0': 262745, '1': 153526, '2': 956458, '3': 613876}, '4': {'0': 2834, '1': 112972, '2': 103464, '3': 49953}, '5': {'0': 62378, '1': 54632, '2': 30813}, '6': {'0': 248, '1': 248, '2': 248, '3': 248, '4': 248, '5': 248}, '7': {'0': 222720, '1': 222720}, '8': {'0': 506, '1': 1012, '2': 1012, '3': 1518, '4': 1518, '5': 3036}, '9': {'0': 8990, '1': 9889, '2': 7192}, '10': {'0': 2202, '1': 2202, '2': 2202, '3': 2202}, '11': {'0': 147330, '1': 147330}, '12': {'0': 7980, '1': 7980, '2': 7980, '3': 7980, '4': 7980, '5': 23940, '6': 7980, '7': 7980}, '13': {'0': 35873, '1': 24574, '2': 11299, '3': 11299, '4': 39825, '5': 988, '6': 1976}, '14': {'0': 1652, '1': 952, '2': 3136}, '15': {'0': 478, '1': 478, '2': 478, '3': 478, '4': 478, '5': 478}, '16': {'0': 2558, '1': 1279, '2': 2558, '3': 3837, '4': 1279}, '17': {'0': 3705, '1': 22230, '2': 14820, '3': 3705, '4': 18525, '5': 3705}, '18': {'0': 185406, '1': 185406}, '19': {'0': 1683, '1': 2805, '2': 3366}, '20': {'0': 9045, '1': 10854, '2': 1809, '3': 3618}, '21': {'0': 840, '1': 840, '2': 840}, '22': {'0': 1425, '1': 10146, '2': 1425, '3': 13528, '4': 1425}, '23': {'0': 108, '1': 108, '2': 108, '3': 108, '4': 216}, '24': {'0': 942, '1': 942, '2': 471, '3': 1884, '4': 471, '5': 1884, '6': 471, '7': 942}, '25': {'0': 226, '1': 452, '2': 226, '3': 226, '4': 1356, '5': 1130}, '26': {'0': 290260, '1': 130094, '2': 160166}, '27': {'0': 810, '1': 90, '2': 90, '3': 180, '4': 1530}, '28': {'0': 147987, '1': 147987}, '29': {'0': 9274, '1': 4637, '2': 4637, '3': 13911}, '30': {'0': 2925, '1': 975, '2': 2925, '3': 1950, '4': 3900, '5': 1950}, '31': {'0': 110, '1': 110, '2': 110, '3': 110}, '32': {'0': 2596, '1': 3540, '2': 4720}, '33': {'0': 273, '1': 273, '2': 3003, '3': 1092, '4': 7917, '5': 546, '6': 819, '7': 4095}, '34': {'0': 108, '1': 108, '2': 108}, '35': {'0': 17838, '1': 5946, '2': 17838, '3': 5946}, '36': {'0': 39800, '1': 7960, '2': 47760, '3': 15920, '4': 7960, '5': 7960}, '37': {'0': 147342, '1': 147342}, '38': {'0': 957, '1': 638, '2': 638}, '39': {'0': 33739, '1': 33739, '2': 33739, '3': 33739}, '40': {'0': 8520, '1': 34080, '2': 51120, '3': 85200}, '41': {'0': 61, '1': 122, '2': 122}, '42': {'0': 2139, '1': 2139, '2': 2139, '3': 2139}, '43': {'0': 658, '1': 658, '2': 658}, '44': {'0': 91432, '1': 137148, '2': 91432, '3': 137148}, '45': {'0': 161094, '1': 161094}, '46': {'0': 42, '1': 42, '2': 42, '3': 84, '4': 42}, '47': {'0': 38496, '1': 25664, '2': 12832, '3': 25664}, '48': {'0': 148020, '1': 148020}, '49': {'0': 71575, '1': 71575, '2': 57260, '3': 28630}, '50': {'0': 1396, '1': 1396, '2': 1396}, '51': {'0': 12362, '1': 12362, '2': 12362, '3': 12362}, '52': {'0': 2387, '1': 2387, '2': 2387, '3': 2387, '4': 4774, '5': 4774}, '53': {'0': 63, '1': 126, '2': 189}, '54': {'0': 178, '1': 712, '2': 356, '3': 356}, '55': {'0': 398, '1': 796, '2': 796, '3': 398}, '56': {'0': 57, '1': 57, '2': 57}, '57': {'0': 23111, '1': 2101, '2': 2101, '3': 39919, '4': 2101}, '58': {'0': 63, '1': 63, '2': 126, '3': 126}, '59': {'0': 444, '1': 444, '2': 222, '3': 444}, '60': {'0': 6642, '1': 9963, '2': 9963, '3': 9963, '4': 6642}, '61': {'0': 120, '1': 120, '2': 120, '3': 600, '4': 2040, '5': 120}, '62': {'0': 190, '1': 190}, '63': {'0': 70, '1': 70, '2': 70, '3': 70}}\n"
     ]
    }
   ],
   "source": [
    "print(number_of_col_clusters)\n",
    "print(cluster_sizes)"
   ]
  },
  {
   "cell_type": "code",
   "execution_count": 7,
   "metadata": {},
   "outputs": [],
   "source": [
    "import pickle\n",
    "import pandas as pd\n",
    "i = 10\n",
    "path_labels = '/Users/fatemehahmadi/Documents/Github-Private/ED-Scale/scourgify/mediate_files/col_df_labels_cluster_33.pickle'\n",
    "dict_ = pickle.load(open(path_labels, 'rb'))\n",
    "labels_df = pd.DataFrame.from_dict(dict_, orient='index').T\n"
   ]
  },
  {
   "cell_type": "code",
   "execution_count": 8,
   "metadata": {},
   "outputs": [
    {
     "data": {
      "text/html": [
       "<div>\n",
       "<style scoped>\n",
       "    .dataframe tbody tr th:only-of-type {\n",
       "        vertical-align: middle;\n",
       "    }\n",
       "\n",
       "    .dataframe tbody tr th {\n",
       "        vertical-align: top;\n",
       "    }\n",
       "\n",
       "    .dataframe thead th {\n",
       "        text-align: right;\n",
       "    }\n",
       "</style>\n",
       "<table border=\"1\" class=\"dataframe\">\n",
       "  <thead>\n",
       "    <tr style=\"text-align: right;\">\n",
       "      <th></th>\n",
       "      <th>column_cluster_label</th>\n",
       "      <th>col_value</th>\n",
       "      <th>table_id</th>\n",
       "      <th>table_path</th>\n",
       "      <th>table_cluster</th>\n",
       "      <th>col_id</th>\n",
       "    </tr>\n",
       "  </thead>\n",
       "  <tbody>\n",
       "    <tr>\n",
       "      <th>38</th>\n",
       "      <td>26</td>\n",
       "      <td>[1809.7, 1830.2, 1722.9, 1840.5, 1970.4, 1880....</td>\n",
       "      <td>9d2887c72e3ae7f72efdef1cd0091d85</td>\n",
       "      <td>/home/fatemeh/ED-Scale/Sandbox_Generation/sand...</td>\n",
       "      <td>33</td>\n",
       "      <td>41</td>\n",
       "    </tr>\n",
       "    <tr>\n",
       "      <th>39</th>\n",
       "      <td>26</td>\n",
       "      <td>[100.69017704, 97.084808681, 99.767561393, 101...</td>\n",
       "      <td>9d2887c72e3ae7f72efdef1cd0091d85</td>\n",
       "      <td>/home/fatemeh/ED-Scale/Sandbox_Generation/sand...</td>\n",
       "      <td>33</td>\n",
       "      <td>54</td>\n",
       "    </tr>\n",
       "  </tbody>\n",
       "</table>\n",
       "</div>"
      ],
      "text/plain": [
       "   column_cluster_label                                          col_value  \\\n",
       "38                   26  [1809.7, 1830.2, 1722.9, 1840.5, 1970.4, 1880....   \n",
       "39                   26  [100.69017704, 97.084808681, 99.767561393, 101...   \n",
       "\n",
       "                            table_id  \\\n",
       "38  9d2887c72e3ae7f72efdef1cd0091d85   \n",
       "39  9d2887c72e3ae7f72efdef1cd0091d85   \n",
       "\n",
       "                                           table_path table_cluster col_id  \n",
       "38  /home/fatemeh/ED-Scale/Sandbox_Generation/sand...            33     41  \n",
       "39  /home/fatemeh/ED-Scale/Sandbox_Generation/sand...            33     54  "
      ]
     },
     "execution_count": 8,
     "metadata": {},
     "output_type": "execute_result"
    }
   ],
   "source": [
    "labels_df[labels_df['column_cluster_label'] == 26]"
   ]
  },
  {
   "cell_type": "code",
   "execution_count": 56,
   "metadata": {},
   "outputs": [
    {
     "name": "stdout",
     "output_type": "stream",
     "text": [
      "column_cluster_label 4\n",
      "col_value 4\n",
      "table_id 4\n",
      "table_path 4\n",
      "table_cluster 4\n",
      "col_id 4\n"
     ]
    }
   ],
   "source": [
    "for i in dict_:\n",
    "    print(i, len(dict_[i]))"
   ]
  },
  {
   "cell_type": "code",
   "execution_count": 58,
   "metadata": {},
   "outputs": [
    {
     "ename": "TypeError",
     "evalue": "Population must be a sequence.  For dicts or sets, use sorted(d).",
     "output_type": "error",
     "traceback": [
      "\u001b[0;31m---------------------------------------------------------------------------\u001b[0m",
      "\u001b[0;31mTypeError\u001b[0m                                 Traceback (most recent call last)",
      "Cell \u001b[0;32mIn[58], line 3\u001b[0m\n\u001b[1;32m      1\u001b[0m \u001b[39mfor\u001b[39;00m key \u001b[39min\u001b[39;00m dict_:\n\u001b[1;32m      2\u001b[0m     \u001b[39mfor\u001b[39;00m i \u001b[39min\u001b[39;00m dict_[key]:\n\u001b[0;32m----> 3\u001b[0m         \u001b[39mprint\u001b[39m(random\u001b[39m.\u001b[39;49msample(i, \u001b[39m5\u001b[39;49m))\n\u001b[1;32m      4\u001b[0m     \u001b[39mprint\u001b[39m(\u001b[39m'\u001b[39m\u001b[39m-------------------------------------------------------\u001b[39m\u001b[39m'\u001b[39m)\n",
      "File \u001b[0;32m~/opt/anaconda3/envs/Error-Detection-at-Scale/lib/python3.9/random.py:433\u001b[0m, in \u001b[0;36mRandom.sample\u001b[0;34m(self, population, k, counts)\u001b[0m\n\u001b[1;32m    431\u001b[0m     population \u001b[39m=\u001b[39m \u001b[39mtuple\u001b[39m(population)\n\u001b[1;32m    432\u001b[0m \u001b[39mif\u001b[39;00m \u001b[39mnot\u001b[39;00m \u001b[39misinstance\u001b[39m(population, _Sequence):\n\u001b[0;32m--> 433\u001b[0m     \u001b[39mraise\u001b[39;00m \u001b[39mTypeError\u001b[39;00m(\u001b[39m\"\u001b[39m\u001b[39mPopulation must be a sequence.  For dicts or sets, use sorted(d).\u001b[39m\u001b[39m\"\u001b[39m)\n\u001b[1;32m    434\u001b[0m n \u001b[39m=\u001b[39m \u001b[39mlen\u001b[39m(population)\n\u001b[1;32m    435\u001b[0m \u001b[39mif\u001b[39;00m counts \u001b[39mis\u001b[39;00m \u001b[39mnot\u001b[39;00m \u001b[39mNone\u001b[39;00m:\n",
      "\u001b[0;31mTypeError\u001b[0m: Population must be a sequence.  For dicts or sets, use sorted(d)."
     ]
    }
   ],
   "source": [
    "for key in dict_:\n",
    "    for i in dict_[key]:\n",
    "        print(random.sample(i, 5))\n",
    "    print('-------------------------------------------------------')"
   ]
  },
  {
   "cell_type": "code",
   "execution_count": 44,
   "metadata": {},
   "outputs": [
    {
     "name": "stderr",
     "output_type": "stream",
     "text": [
      "/Users/fatemehahmadi/opt/anaconda3/envs/Error-Detection-at-Scale/lib/python3.9/site-packages/tqdm/auto.py:22: TqdmWarning: IProgress not found. Please update jupyter and ipywidgets. See https://ipywidgets.readthedocs.io/en/stable/user_install.html\n",
      "  from .autonotebook import tqdm as notebook_tqdm\n"
     ]
    },
    {
     "ename": "OSError",
     "evalue": "[E050] Can't find model 'ner'. It doesn't seem to be a Python package or a valid path to a data directory.",
     "output_type": "error",
     "traceback": [
      "\u001b[0;31m---------------------------------------------------------------------------\u001b[0m",
      "\u001b[0;31mOSError\u001b[0m                                   Traceback (most recent call last)",
      "Cell \u001b[0;32mIn[44], line 4\u001b[0m\n\u001b[1;32m      1\u001b[0m \u001b[39mimport\u001b[39;00m \u001b[39mspacy\u001b[39;00m\n\u001b[1;32m      3\u001b[0m \u001b[39m# Load the Spacy model\u001b[39;00m\n\u001b[0;32m----> 4\u001b[0m nlp \u001b[39m=\u001b[39m spacy\u001b[39m.\u001b[39;49mload(\u001b[39m\"\u001b[39;49m\u001b[39mner\u001b[39;49m\u001b[39m\"\u001b[39;49m)\n\u001b[1;32m      5\u001b[0m nlp\u001b[39m.\u001b[39mpipeline\n\u001b[1;32m      6\u001b[0m \u001b[39m# # Print the names and descriptions of all named entity types\u001b[39;00m\n\u001b[1;32m      7\u001b[0m \u001b[39m# for ent_type in nlp.pipe_labels['ner']:\u001b[39;00m\n\u001b[1;32m      8\u001b[0m \u001b[39m#     print(ent_type, spacy.explain(ent_type))\u001b[39;00m\n\u001b[0;32m   (...)\u001b[0m\n\u001b[1;32m     11\u001b[0m \u001b[39m# for g in l:\u001b[39;00m\n\u001b[1;32m     12\u001b[0m \u001b[39m#     print(nlp(g).ents)\u001b[39;00m\n",
      "File \u001b[0;32m~/opt/anaconda3/envs/Error-Detection-at-Scale/lib/python3.9/site-packages/spacy/__init__.py:54\u001b[0m, in \u001b[0;36mload\u001b[0;34m(name, vocab, disable, enable, exclude, config)\u001b[0m\n\u001b[1;32m     30\u001b[0m \u001b[39mdef\u001b[39;00m \u001b[39mload\u001b[39m(\n\u001b[1;32m     31\u001b[0m     name: Union[\u001b[39mstr\u001b[39m, Path],\n\u001b[1;32m     32\u001b[0m     \u001b[39m*\u001b[39m,\n\u001b[0;32m   (...)\u001b[0m\n\u001b[1;32m     37\u001b[0m     config: Union[Dict[\u001b[39mstr\u001b[39m, Any], Config] \u001b[39m=\u001b[39m util\u001b[39m.\u001b[39mSimpleFrozenDict(),\n\u001b[1;32m     38\u001b[0m ) \u001b[39m-\u001b[39m\u001b[39m>\u001b[39m Language:\n\u001b[1;32m     39\u001b[0m \u001b[39m    \u001b[39m\u001b[39m\"\"\"Load a spaCy model from an installed package or a local path.\u001b[39;00m\n\u001b[1;32m     40\u001b[0m \n\u001b[1;32m     41\u001b[0m \u001b[39m    name (str): Package name or model path.\u001b[39;00m\n\u001b[0;32m   (...)\u001b[0m\n\u001b[1;32m     52\u001b[0m \u001b[39m    RETURNS (Language): The loaded nlp object.\u001b[39;00m\n\u001b[1;32m     53\u001b[0m \u001b[39m    \"\"\"\u001b[39;00m\n\u001b[0;32m---> 54\u001b[0m     \u001b[39mreturn\u001b[39;00m util\u001b[39m.\u001b[39;49mload_model(\n\u001b[1;32m     55\u001b[0m         name,\n\u001b[1;32m     56\u001b[0m         vocab\u001b[39m=\u001b[39;49mvocab,\n\u001b[1;32m     57\u001b[0m         disable\u001b[39m=\u001b[39;49mdisable,\n\u001b[1;32m     58\u001b[0m         enable\u001b[39m=\u001b[39;49menable,\n\u001b[1;32m     59\u001b[0m         exclude\u001b[39m=\u001b[39;49mexclude,\n\u001b[1;32m     60\u001b[0m         config\u001b[39m=\u001b[39;49mconfig,\n\u001b[1;32m     61\u001b[0m     )\n",
      "File \u001b[0;32m~/opt/anaconda3/envs/Error-Detection-at-Scale/lib/python3.9/site-packages/spacy/util.py:439\u001b[0m, in \u001b[0;36mload_model\u001b[0;34m(name, vocab, disable, enable, exclude, config)\u001b[0m\n\u001b[1;32m    437\u001b[0m \u001b[39mif\u001b[39;00m name \u001b[39min\u001b[39;00m OLD_MODEL_SHORTCUTS:\n\u001b[1;32m    438\u001b[0m     \u001b[39mraise\u001b[39;00m \u001b[39mIOError\u001b[39;00m(Errors\u001b[39m.\u001b[39mE941\u001b[39m.\u001b[39mformat(name\u001b[39m=\u001b[39mname, full\u001b[39m=\u001b[39mOLD_MODEL_SHORTCUTS[name]))  \u001b[39m# type: ignore[index]\u001b[39;00m\n\u001b[0;32m--> 439\u001b[0m \u001b[39mraise\u001b[39;00m \u001b[39mIOError\u001b[39;00m(Errors\u001b[39m.\u001b[39mE050\u001b[39m.\u001b[39mformat(name\u001b[39m=\u001b[39mname))\n",
      "\u001b[0;31mOSError\u001b[0m: [E050] Can't find model 'ner'. It doesn't seem to be a Python package or a valid path to a data directory."
     ]
    }
   ],
   "source": [
    "import spacy\n",
    "\n",
    "# Load the Spacy model\n",
    "nlp = spacy.load(\"ner\")\n",
    "nlp.pipeline\n",
    "# # Print the names and descriptions of all named entity types\n",
    "# for ent_type in nlp.pipe_labels['ner']:\n",
    "#     print(ent_type, spacy.explain(ent_type))\n",
    "\n",
    "# l = ['Non Fiction', 'Fiction', 'Non Fiction', 'Fiction', 'Fiction']\n",
    "# for g in l:\n",
    "#     print(nlp(g).ents)"
   ]
  },
  {
   "cell_type": "code",
   "execution_count": 102,
   "metadata": {},
   "outputs": [
    {
     "name": "stdout",
     "output_type": "stream",
     "text": [
      "Two CARDINAL\n",
      "1948 - 1977 DATE\n",
      "Amazing Spider-Girl PERSON\n",
      "2006 - 2009 DATE\n",
      "The Amazing Spider-Man ORG\n",
      "1963 - 1998 DATE\n",
      "Uncanny X-Men PERSON\n",
      "2011 - 2012 DATE\n"
     ]
    }
   ],
   "source": [
    "from spacy.pipeline.ner import DEFAULT_NER_MODEL\n",
    "config = {\n",
    "   \"moves\": None,\n",
    "   \"update_with_oracle_cut_size\": 100,\n",
    "   \"model\": DEFAULT_NER_MODEL,\n",
    "   \"incorrect_spans_key\": \"incorrect_spans\",\n",
    "}\n",
    "l = ['Two-Gun Kid (1948 - 1977)', 'Amazing Spider-Girl (2006 - 2009)', 'The Amazing Spider-Man (1963 - 1998)', 'Uncanny X-Men (2011 - 2012)', \"X-Men '92 (2016)\"]\n",
    "\n",
    "for g in l:\n",
    "    for e in nlp(g).ents:\n",
    "         print(e.text, e.label_)\n"
   ]
  },
  {
   "cell_type": "code",
   "execution_count": 29,
   "metadata": {},
   "outputs": [],
   "source": [
    "c = ['Angie Grace', 'George R.R. Martin', 'Marty Noble', 'School Zone', 'Amy Shields', 'William P. Young', 'Rick Riordan', 'Kristin Hannah', 'Gallup', 'J.K. Rowling']"
   ]
  },
  {
   "cell_type": "code",
   "execution_count": 30,
   "metadata": {},
   "outputs": [
    {
     "name": "stdout",
     "output_type": "stream",
     "text": [
      "Angie Grace PERSON\n",
      "George R.R. Martin PERSON\n",
      "Marty Noble PERSON\n",
      "Amy Shields PERSON\n",
      "William P. Young PERSON\n",
      "Rick Riordan PERSON\n",
      "Kristin Hannah PERSON\n",
      "Gallup ORG\n",
      "J.K. GPE\n"
     ]
    }
   ],
   "source": [
    "for d in c:\n",
    "    d = nlp(d)\n",
    "    for ent in d.ents:\n",
    "        print(ent.text, ent.label_)"
   ]
  },
  {
   "cell_type": "code",
   "execution_count": null,
   "metadata": {},
   "outputs": [],
   "source": []
  }
 ],
 "metadata": {
  "kernelspec": {
   "display_name": "Error-Detection-at-Scale",
   "language": "python",
   "name": "python3"
  },
  "language_info": {
   "codemirror_mode": {
    "name": "ipython",
    "version": 3
   },
   "file_extension": ".py",
   "mimetype": "text/x-python",
   "name": "python",
   "nbconvert_exporter": "python",
   "pygments_lexer": "ipython3",
   "version": "3.9.15"
  },
  "orig_nbformat": 4,
  "vscode": {
   "interpreter": {
    "hash": "5394c91fb5c1371d52b9e1755fc7c5897f0d08c29c1797ff77a01cb59e334106"
   }
  }
 },
 "nbformat": 4,
 "nbformat_minor": 2
}
