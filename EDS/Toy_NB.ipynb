{
 "cells": [
  {
   "cell_type": "code",
   "execution_count": null,
   "metadata": {},
   "outputs": [],
   "source": [
    "import pandas as pd\n",
    "import spacy\n",
    "from spacy import displacy\n",
    "import pandera as pa\n",
    "from pandera import Check, Column, DataFrameSchema\n",
    "import csv\n",
    "from messytables import CSVTableSet, type_guess, \\\n",
    "  types_processor, headers_guess, headers_processor, \\\n",
    "  offset_processor, any_tableset"
   ]
  },
  {
   "cell_type": "markdown",
   "metadata": {},
   "source": []
  },
  {
   "cell_type": "code",
   "execution_count": null,
   "metadata": {},
   "outputs": [],
   "source": [
    "import spacy\n",
    "nlp = spacy.load(\"en_core_web_sm\")\n",
    "type(nlp.get_pipe(\"ner\").labels)"
   ]
  },
  {
   "cell_type": "code",
   "execution_count": null,
   "metadata": {},
   "outputs": [],
   "source": [
    "df = pd.read_csv(\"raha-datasets/parent/movies_1/dirty.csv\")\n",
    "\n",
    "fh = open('raha-datasets/parent/movies_1/dirty.csv', 'rb')\n",
    "table_set = CSVTableSet(fh)\n",
    "\n",
    "# If you aren't sure what kind of file it is, you can use\n",
    "# any_tableset.\n",
    "#table_set = any_tableset(fh)\n",
    "\n",
    "# A table set is a collection of tables:\n",
    "row_set = table_set.tables[0]\n",
    "types = type_guess(row_set.sample)\n",
    "types"
   ]
  },
  {
   "cell_type": "code",
   "execution_count": null,
   "metadata": {},
   "outputs": [],
   "source": [
    "clean_df = pd.read_csv(\"raha-datasets/parent/movies_1/movies_1.csv\")"
   ]
  },
  {
   "cell_type": "code",
   "execution_count": null,
   "metadata": {},
   "outputs": [],
   "source": [
    "df['year'].info(verbose=True)\n"
   ]
  },
  {
   "cell_type": "code",
   "execution_count": null,
   "metadata": {},
   "outputs": [],
   "source": [
    "NER = spacy.load(\"en_core_web_sm\")"
   ]
  },
  {
   "cell_type": "code",
   "execution_count": null,
   "metadata": {},
   "outputs": [],
   "source": [
    "raw_text = 'San Francisco'"
   ]
  },
  {
   "cell_type": "code",
   "execution_count": null,
   "metadata": {},
   "outputs": [],
   "source": [
    "text1= NER(raw_text)"
   ]
  },
  {
   "cell_type": "code",
   "execution_count": null,
   "metadata": {},
   "outputs": [],
   "source": [
    "for word in text1.ents:\n",
    "    print(word.text,word.label_)"
   ]
  },
  {
   "cell_type": "code",
   "execution_count": null,
   "metadata": {},
   "outputs": [],
   "source": [
    "text1"
   ]
  },
  {
   "cell_type": "code",
   "execution_count": null,
   "metadata": {},
   "outputs": [],
   "source": [
    "obj_types = {col: set(map(type, df[col])) for col in df.select_dtypes(include=[object])}\n",
    "\n",
    "print(obj_types)\n"
   ]
  },
  {
   "cell_type": "code",
   "execution_count": null,
   "metadata": {},
   "outputs": [],
   "source": [
    "obj_types = {col: set(applymap(type, clean_df[col])) for col in clean_df.select_dtypes(include=[object])}\n",
    "\n",
    "print(obj_types)\n",
    "\n"
   ]
  },
  {
   "cell_type": "code",
   "execution_count": null,
   "metadata": {},
   "outputs": [],
   "source": [
    "print(clean_df.applymap(type))"
   ]
  },
  {
   "cell_type": "code",
   "execution_count": null,
   "metadata": {},
   "outputs": [],
   "source": [
    "pd.set_option('display.max_rows', None)"
   ]
  },
  {
   "cell_type": "code",
   "execution_count": null,
   "metadata": {},
   "outputs": [],
   "source": [
    "df[*][6016]"
   ]
  },
  {
   "cell_type": "code",
   "execution_count": null,
   "metadata": {},
   "outputs": [],
   "source": [
    "schema = pa.infer_schema(df)"
   ]
  },
  {
   "cell_type": "code",
   "execution_count": null,
   "metadata": {},
   "outputs": [],
   "source": [
    "print(schema)\n"
   ]
  },
  {
   "cell_type": "code",
   "execution_count": 1,
   "metadata": {},
   "outputs": [],
   "source": [
    "import pandas as pd"
   ]
  },
  {
   "cell_type": "code",
   "execution_count": 2,
   "metadata": {},
   "outputs": [],
   "source": [
    "df = pd.read_pickle('/Users/fatemehahmadi/Documents/Github-Private/ED-Scale/outputs/raha-datasets/COL-G-OP/results_exp_1_labels_40/sampled_tuples.pkl')"
   ]
  },
  {
   "cell_type": "code",
   "execution_count": 3,
   "metadata": {},
   "outputs": [
    {
     "data": {
      "text/plain": [
       "[(3, 8, 6151),\n",
       " (0, 5, 1610),\n",
       " (0, 6, 1696),\n",
       " (4, 4, 856),\n",
       " (3, 16, 5456),\n",
       " (3, 16, 6051),\n",
       " (3, 16, 2497),\n",
       " (3, 16, 966),\n",
       " (2, 10, 816),\n",
       " (2, 10, 755),\n",
       " (2, 10, 401),\n",
       " (2, 10, 832),\n",
       " (1, 12, 145),\n",
       " (4, 8, 495),\n",
       " (3, 5, 6423),\n",
       " (3, 15, 3063),\n",
       " (3, 7, 6613),\n",
       " (3, 7, 6368),\n",
       " (3, 7, 7122),\n",
       " (3, 7, 5540),\n",
       " (3, 12, 6672),\n",
       " (3, 11, 517),\n",
       " (3, 2, 5202),\n",
       " (3, 10, 2702),\n",
       " (2, 1, 563),\n",
       " (2, 1, 141),\n",
       " (2, 1, 723),\n",
       " (2, 1, 962),\n",
       " (3, 6, 1345),\n",
       " (3, 6, 1791),\n",
       " (3, 6, 2605),\n",
       " (3, 6, 2762),\n",
       " (3, 4, 1752),\n",
       " (3, 13, 6491),\n",
       " (4, 2, 136),\n",
       " (3, 1, 2879),\n",
       " (1, 16, 638),\n",
       " (1, 16, 34),\n",
       " (1, 16, 901),\n",
       " (1, 16, 884)]"
      ]
     },
     "execution_count": 3,
     "metadata": {},
     "output_type": "execute_result"
    }
   ],
   "source": [
    "df"
   ]
  },
  {
   "cell_type": "code",
   "execution_count": 1,
   "metadata": {},
   "outputs": [],
   "source": [
    "import pandas as pd\n",
    "import pickle"
   ]
  },
  {
   "cell_type": "code",
   "execution_count": 2,
   "metadata": {},
   "outputs": [],
   "source": [
    "scores = pd.read_pickle('/Users/fatemehahmadi/Documents/Github-Private/ED-Scale/EDS/outputs/raha-datasets/13011ExpVsRaha/results_exp_1_labels_40/scores.pickle')"
   ]
  },
  {
   "cell_type": "code",
   "execution_count": 3,
   "metadata": {},
   "outputs": [
    {
     "data": {
      "text/plain": [
       "{'n_samples': 39,\n",
       " 'precision': 0.4539124602046333,\n",
       " 'recall': 0.5,\n",
       " 'f_score': 0.47584288825335186,\n",
       " 'support': None,\n",
       " 'tp': 181358,\n",
       " 'fp': 18414,\n",
       " 'fn': 0,\n",
       " 'tn': 0}"
      ]
     },
     "execution_count": 3,
     "metadata": {},
     "output_type": "execute_result"
    }
   ],
   "source": [
    "scores"
   ]
  },
  {
   "cell_type": "code",
   "execution_count": null,
   "metadata": {},
   "outputs": [],
   "source": []
  }
 ],
 "metadata": {
  "interpreter": {
   "hash": "eb0539b26fa9d06d8b096ca6961d7132628444224155c2d02de73dd41a4c20f9"
  },
  "kernelspec": {
   "display_name": "Python 3.10.4 64-bit ('Error-Detection-at-Scale-orig': conda)",
   "name": "python3"
  },
  "language_info": {
   "codemirror_mode": {
    "name": "ipython",
    "version": 3
   },
   "file_extension": ".py",
   "mimetype": "text/x-python",
   "name": "python",
   "nbconvert_exporter": "python",
   "pygments_lexer": "ipython3",
   "version": "3.10.4"
  }
 },
 "nbformat": 4,
 "nbformat_minor": 5
}