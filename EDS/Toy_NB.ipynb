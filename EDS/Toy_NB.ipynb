{
 "cells": [
  {
   "cell_type": "markdown",
   "metadata": {},
   "source": []
  },
  {
   "cell_type": "code",
   "execution_count": 3,
   "metadata": {},
   "outputs": [],
   "source": [
    "import pandas as pd\n",
    "import pandasql"
   ]
  },
  {
   "cell_type": "code",
   "execution_count": 4,
   "metadata": {},
   "outputs": [],
   "source": [
    "result_df_path = '/home/fatemeh/ED-Scale/outputs/data-gov-sandbox/EDS-Data-Gov-7tables-1601/results_exp_1_labels_100/results_df.pickle'\n",
    "result_df = pd.read_pickle(result_df_path)\n",
    "scores_all = pd.read_pickle('/home/fatemeh/ED-Scale/outputs/data-gov-sandbox/EDS-Data-Gov-7tables-1601/results_exp_1_labels_100/scores_all.pickle')"
   ]
  },
  {
   "cell_type": "code",
   "execution_count": null,
   "metadata": {},
   "outputs": [],
   "source": [
    "result_df.to_csv('result_df.csv')"
   ]
  },
  {
   "cell_type": "code",
   "execution_count": null,
   "metadata": {},
   "outputs": [],
   "source": [
    "query = 'SELECT count(*) from result_df where predicted = 1 and label = 1'\n",
    "pandasql.sqldf(query)"
   ]
  },
  {
   "cell_type": "code",
   "execution_count": 5,
   "metadata": {},
   "outputs": [
    {
     "data": {
      "text/plain": [
       "{'n_samples': 100,\n",
       " 'total_recall': 0.7382783882783883,\n",
       " 'total_precision': 0.4363498592768998,\n",
       " 'total_fscore': 0.5485100013607294,\n",
       " 'total_tp': 4031,\n",
       " 'total_fp': 5207,\n",
       " 'total_tn': 36851,\n",
       " 'total_fn': 1429}"
      ]
     },
     "execution_count": 5,
     "metadata": {},
     "output_type": "execute_result"
    }
   ],
   "source": [
    "scores_all"
   ]
  },
  {
   "cell_type": "code",
   "execution_count": null,
   "metadata": {},
   "outputs": [],
   "source": []
  }
 ],
 "metadata": {
  "interpreter": {
   "hash": "7fb0231cb4f9a7754dd05621ee197b32f743a0b486218d0dbacb7e6d04ca0dc4"
  },
  "kernelspec": {
   "display_name": "Python 3.10.8 64-bit",
   "name": "python3"
  },
  "language_info": {
   "codemirror_mode": {
    "name": "ipython",
    "version": 3
   },
   "file_extension": ".py",
   "mimetype": "text/x-python",
   "name": "python",
   "nbconvert_exporter": "python",
   "pygments_lexer": "ipython3",
   "version": "3.10.8"
  }
 },
 "nbformat": 4,
 "nbformat_minor": 5
}