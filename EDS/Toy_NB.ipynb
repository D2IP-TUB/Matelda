{
 "cells": [
  {
   "cell_type": "markdown",
   "metadata": {},
   "source": []
  },
  {
   "cell_type": "code",
   "execution_count": 40,
   "metadata": {},
   "outputs": [],
   "source": [
    "import pandas as pd\n",
    "import pandasql"
   ]
  },
  {
   "cell_type": "code",
   "execution_count": 45,
   "metadata": {},
   "outputs": [],
   "source": [
    "result_df_path = '/Users/fatemehahmadi/Documents/Github-Private/ED-Scale/EDS/outputs/raha-datasets/bugchecker/results_exp_1_labels_66/results_df.pickle'\n",
    "original_data_keys_path = '/Users/fatemehahmadi/Documents/Github-Private/ED-Scale/EDS/outputs/raha-datasets/bugchecker/original_data_keys.pkl'\n",
    "labels_path = '/Users/fatemehahmadi/Documents/Github-Private/ED-Scale/EDS/outputs/raha-datasets/labels.pickle'\n",
    "features = pd.read_pickle('/Users/fatemehahmadi/Documents/Github-Private/ED-Scale/EDS/outputs/raha-datasets/bugchecker/features.pkl')\n",
    "result_df = pd.read_pickle(result_df_path)\n",
    "scores_all = pd.read_pickle('/Users/fatemehahmadi/Documents/Github-Private/ED-Scale/EDS/outputs/raha-datasets/bugchecker/results_exp_1_labels_66/scores_all.pickle')"
   ]
  },
  {
   "cell_type": "code",
   "execution_count": 46,
   "metadata": {},
   "outputs": [],
   "source": [
    "result_df.to_csv('result_df.csv')"
   ]
  },
  {
   "cell_type": "code",
   "execution_count": 47,
   "metadata": {},
   "outputs": [
    {
     "data": {
      "text/html": [
       "<div>\n",
       "<style scoped>\n",
       "    .dataframe tbody tr th:only-of-type {\n",
       "        vertical-align: middle;\n",
       "    }\n",
       "\n",
       "    .dataframe tbody tr th {\n",
       "        vertical-align: top;\n",
       "    }\n",
       "\n",
       "    .dataframe thead th {\n",
       "        text-align: right;\n",
       "    }\n",
       "</style>\n",
       "<table border=\"1\" class=\"dataframe\">\n",
       "  <thead>\n",
       "    <tr style=\"text-align: right;\">\n",
       "      <th></th>\n",
       "      <th>count(*)</th>\n",
       "    </tr>\n",
       "  </thead>\n",
       "  <tbody>\n",
       "    <tr>\n",
       "      <th>0</th>\n",
       "      <td>6043</td>\n",
       "    </tr>\n",
       "  </tbody>\n",
       "</table>\n",
       "</div>"
      ],
      "text/plain": [
       "   count(*)\n",
       "0      6043"
      ]
     },
     "execution_count": 47,
     "metadata": {},
     "output_type": "execute_result"
    }
   ],
   "source": [
    "query = 'SELECT count(*) from result_df where predicted = 1 and label = 1'\n",
    "pandasql.sqldf(query)"
   ]
  },
  {
   "cell_type": "code",
   "execution_count": 48,
   "metadata": {},
   "outputs": [
    {
     "data": {
      "text/plain": [
       "{'n_samples': 59,\n",
       " 'total_recall': 0.3284457478005865,\n",
       " 'total_precision': 0.44542642509942554,\n",
       " 'total_fscore': 0.37809452363090773,\n",
       " 'total_tp': 6048,\n",
       " 'total_fp': 7530,\n",
       " 'total_tn': 173828,\n",
       " 'total_fn': 12366}"
      ]
     },
     "execution_count": 48,
     "metadata": {},
     "output_type": "execute_result"
    }
   ],
   "source": [
    "scores_all"
   ]
  },
  {
   "cell_type": "code",
   "execution_count": null,
   "metadata": {},
   "outputs": [],
   "source": []
  }
 ],
 "metadata": {
  "interpreter": {
   "hash": "db51b05e95d4b679a995c074b01c936d98bbc3cda3eeedfd747654f76d92f1cf"
  },
  "kernelspec": {
   "display_name": "Python 3.10.8 64-bit",
   "name": "python3"
  },
  "language_info": {
   "codemirror_mode": {
    "name": "ipython",
    "version": 3
   },
   "file_extension": ".py",
   "mimetype": "text/x-python",
   "name": "python",
   "nbconvert_exporter": "python",
   "pygments_lexer": "ipython3",
   "version": "3.10.8"
  }
 },
 "nbformat": 4,
 "nbformat_minor": 5
}