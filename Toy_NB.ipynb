{
 "cells": [
  {
   "cell_type": "code",
   "execution_count": null,
   "metadata": {},
   "outputs": [],
   "source": [
    "import pandas as pd\n",
    "import spacy\n",
    "from spacy import displacy\n",
    "import pandera as pa\n",
    "from pandera import Check, Column, DataFrameSchema\n",
    "import csv\n",
    "from messytables import CSVTableSet, type_guess, \\\n",
    "  types_processor, headers_guess, headers_processor, \\\n",
    "  offset_processor, any_tableset"
   ]
  },
  {
   "cell_type": "markdown",
   "metadata": {},
   "source": []
  },
  {
   "cell_type": "code",
   "execution_count": null,
   "metadata": {},
   "outputs": [],
   "source": [
    "import spacy\n",
    "nlp = spacy.load(\"en_core_web_sm\")\n",
    "type(nlp.get_pipe(\"ner\").labels)"
   ]
  },
  {
   "cell_type": "code",
   "execution_count": null,
   "metadata": {},
   "outputs": [],
   "source": [
    "df = pd.read_csv(\"raha-datasets/parent/movies_1/dirty.csv\")\n",
    "\n",
    "fh = open('raha-datasets/parent/movies_1/dirty.csv', 'rb')\n",
    "table_set = CSVTableSet(fh)\n",
    "\n",
    "# If you aren't sure what kind of file it is, you can use\n",
    "# any_tableset.\n",
    "#table_set = any_tableset(fh)\n",
    "\n",
    "# A table set is a collection of tables:\n",
    "row_set = table_set.tables[0]\n",
    "types = type_guess(row_set.sample)\n",
    "types"
   ]
  },
  {
   "cell_type": "code",
   "execution_count": null,
   "metadata": {},
   "outputs": [],
   "source": [
    "clean_df = pd.read_csv(\"raha-datasets/parent/movies_1/movies_1.csv\")"
   ]
  },
  {
   "cell_type": "code",
   "execution_count": null,
   "metadata": {},
   "outputs": [],
   "source": [
    "df['year'].info(verbose=True)\n"
   ]
  },
  {
   "cell_type": "code",
   "execution_count": null,
   "metadata": {},
   "outputs": [],
   "source": [
    "NER = spacy.load(\"en_core_web_sm\")"
   ]
  },
  {
   "cell_type": "code",
   "execution_count": null,
   "metadata": {},
   "outputs": [],
   "source": [
    "raw_text = 'San Francisco'"
   ]
  },
  {
   "cell_type": "code",
   "execution_count": null,
   "metadata": {},
   "outputs": [],
   "source": [
    "text1= NER(raw_text)"
   ]
  },
  {
   "cell_type": "code",
   "execution_count": null,
   "metadata": {},
   "outputs": [],
   "source": [
    "for word in text1.ents:\n",
    "    print(word.text,word.label_)"
   ]
  },
  {
   "cell_type": "code",
   "execution_count": null,
   "metadata": {},
   "outputs": [],
   "source": [
    "text1"
   ]
  },
  {
   "cell_type": "code",
   "execution_count": null,
   "metadata": {},
   "outputs": [],
   "source": [
    "obj_types = {col: set(map(type, df[col])) for col in df.select_dtypes(include=[object])}\n",
    "\n",
    "print(obj_types)\n"
   ]
  },
  {
   "cell_type": "code",
   "execution_count": null,
   "metadata": {},
   "outputs": [],
   "source": [
    "obj_types = {col: set(applymap(type, clean_df[col])) for col in clean_df.select_dtypes(include=[object])}\n",
    "\n",
    "print(obj_types)\n",
    "\n"
   ]
  },
  {
   "cell_type": "code",
   "execution_count": null,
   "metadata": {},
   "outputs": [],
   "source": [
    "print(clean_df.applymap(type))"
   ]
  },
  {
   "cell_type": "code",
   "execution_count": null,
   "metadata": {},
   "outputs": [],
   "source": [
    "pd.set_option('display.max_rows', None)"
   ]
  },
  {
   "cell_type": "code",
   "execution_count": null,
   "metadata": {},
   "outputs": [],
   "source": [
    "df[*][6016]"
   ]
  },
  {
   "cell_type": "code",
   "execution_count": null,
   "metadata": {},
   "outputs": [],
   "source": [
    "schema = pa.infer_schema(df)"
   ]
  },
  {
   "cell_type": "code",
   "execution_count": null,
   "metadata": {},
   "outputs": [],
   "source": [
    "print(schema)\n"
   ]
  },
  {
   "cell_type": "code",
   "execution_count": 2,
   "metadata": {},
   "outputs": [],
   "source": [
    "import pandas as pd"
   ]
  },
  {
   "cell_type": "code",
   "execution_count": 4,
   "metadata": {},
   "outputs": [],
   "source": [
    "df = pd.read_pickle('outputs/raha-datasets/COL-G-OP/results_exp_1_labels_40/sampled_tuples.pkl')"
   ]
  },
  {
   "cell_type": "code",
   "execution_count": 5,
   "metadata": {},
   "outputs": [
    {
     "data": {
      "text/plain": [
       "[(3, 8, 2357),\n",
       " (1, 14, 441),\n",
       " (4, 9, 313),\n",
       " (0, 5, 1875),\n",
       " (3, 16, 2997),\n",
       " (3, 16, 3069),\n",
       " (3, 16, 6217),\n",
       " (3, 16, 6086),\n",
       " (2, 10, 436),\n",
       " (2, 10, 87),\n",
       " (2, 10, 658),\n",
       " (2, 10, 206),\n",
       " (1, 2, 129),\n",
       " (1, 12, 419),\n",
       " (4, 8, 1123),\n",
       " (3, 15, 6681),\n",
       " (3, 7, 644),\n",
       " (3, 7, 5133),\n",
       " (3, 7, 6018),\n",
       " (3, 7, 6711),\n",
       " (1, 8, 80),\n",
       " (4, 7, 1792),\n",
       " (3, 9, 297),\n",
       " (3, 10, 4962),\n",
       " (2, 1, 801),\n",
       " (2, 1, 567),\n",
       " (2, 1, 156),\n",
       " (2, 1, 884),\n",
       " (3, 6, 6),\n",
       " (3, 6, 4153),\n",
       " (3, 6, 4385),\n",
       " (3, 6, 4010),\n",
       " (0, 2, 1901),\n",
       " (3, 3, 7063),\n",
       " (3, 14, 2288),\n",
       " (3, 1, 4187),\n",
       " (1, 16, 824),\n",
       " (1, 16, 48),\n",
       " (1, 16, 306),\n",
       " (1, 16, 698)]"
      ]
     },
     "execution_count": 5,
     "metadata": {},
     "output_type": "execute_result"
    }
   ],
   "source": [
    "df"
   ]
  },
  {
   "cell_type": "code",
   "execution_count": null,
   "metadata": {},
   "outputs": [],
   "source": []
  }
 ],
 "metadata": {
  "interpreter": {
   "hash": "db51b05e95d4b679a995c074b01c936d98bbc3cda3eeedfd747654f76d92f1cf"
  },
  "kernelspec": {
   "display_name": "Python 3.10.4 64-bit ('Error-Detection-at-Scale': conda)",
   "name": "python3"
  },
  "language_info": {
   "codemirror_mode": {
    "name": "ipython",
    "version": 3
   },
   "file_extension": ".py",
   "mimetype": "text/x-python",
   "name": "python",
   "nbconvert_exporter": "python",
   "pygments_lexer": "ipython3",
   "version": "3.10.4"
  }
 },
 "nbformat": 4,
 "nbformat_minor": 5
}