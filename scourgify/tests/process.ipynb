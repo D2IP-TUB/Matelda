{
 "cells": [
  {
   "cell_type": "code",
   "execution_count": 10,
   "metadata": {},
   "outputs": [],
   "source": [
    "import pandas as pd\n",
    "import pickle\n",
    "import random \n",
    "dict_ = pickle.load(open('/Users/fatemehahmadi/Documents/Github-Private/ED-Scale/scourgify/mediate_files/cols_per_cluster_0.pkl', 'rb'))"
   ]
  },
  {
   "cell_type": "code",
   "execution_count": 11,
   "metadata": {},
   "outputs": [
    {
     "data": {
      "text/plain": [
       "dict_keys([0, 1, 2, 3, 4, 5, 6, 7, 8, 9, 10, 11, 12, 13])"
      ]
     },
     "execution_count": 11,
     "metadata": {},
     "output_type": "execute_result"
    }
   ],
   "source": [
    "dict_.keys()"
   ]
  },
  {
   "cell_type": "code",
   "execution_count": 12,
   "metadata": {},
   "outputs": [
    {
     "name": "stdout",
     "output_type": "stream",
     "text": [
      "0 3\n",
      "1 16\n",
      "2 1\n",
      "3 1\n",
      "4 4\n",
      "5 20\n",
      "6 1\n",
      "7 1\n",
      "8 71\n",
      "9 1\n",
      "10 69\n",
      "11 1\n",
      "12 1\n",
      "13 1\n"
     ]
    }
   ],
   "source": [
    "for i in dict_:\n",
    "    print(i, len(dict_[i]))"
   ]
  },
  {
   "cell_type": "code",
   "execution_count": 13,
   "metadata": {},
   "outputs": [
    {
     "name": "stdout",
     "output_type": "stream",
     "text": [
      "['KURIC', 'MEEUS', 'HALFON']\n",
      "['AMAGASA', 'HARADA', 'RAWAT']\n",
      "['BRAND', 'CAULIER', 'HADA']\n",
      "-------------------------------------------------------\n",
      "[nan, nan, '37+7.']\n",
      "[nan, nan, nan]\n",
      "[nan, nan, nan]\n",
      "[nan, nan, '28+']\n",
      "[nan, nan, nan]\n",
      "[nan, '0T0z00', nan]\n",
      "[nan, nan, nan]\n",
      "[nan, '1T1z43', nan]\n",
      "[nan, nan, '3T3z44']\n",
      "[nan, nan, nan]\n",
      "[nan, '48+4.', nan]\n",
      "[nan, '6.110', nan]\n",
      "[nan, nan, nan]\n",
      "[nan, nan, nan]\n",
      "[nan, nan, nan]\n",
      "[nan, nan, nan]\n",
      "-------------------------------------------------------\n",
      "['Blue and Gold-toned Contemporary Earrings and silver-plated Secured with a post and back', 'Soft jersey knitLapped shoulders, long sleevesCrewneckSnaps at inseam for easy dressing and diaperingAllover print', 'Set content: 1 bath rugColour: Turquoise bluePattern: Self designShape: Rectangular GSM: 2100']\n",
      "-------------------------------------------------------\n",
      "['An absent-minded professor discovers flubber, a rubber-like super-bouncy substance.', \"Mild mannered businessman Sandy Patterson travels from Denver to Florida to confront the deceptively harmless looking woman who has been living it up after stealing Sandy's identity.\", \"A fast-track lawyer can't lie for 24 hours due to his son's birthday wish after he disappoints his son for the last time.\"]\n",
      "-------------------------------------------------------\n",
      "['IFSC Youth World Championships - Arco (ITA) 2019', 'IFSC Climbing World Championships Combined - Innsbruck (AUT) 2018', 'IFSC Youth World Championships - Arco (ITA) 2019']\n",
      "['IFSC Climbing World Championships - Innsbruck (AUT) 2018', 'IFSC Climbing Worldcup (L) - Kranj (SLO) 2019', 'IFSC Climbing Worldcup (L) - BrianÃ§on (FRA) 2019']\n",
      "['IFSC Climbing Worldcup (B,S) - Chongqing (CHN) 2018', 'IFSC Climbing Worldcup (B,S) - Moscow (RUS) 2019', 'IFSC Climbing World Championships - Innsbruck (AUT) 2018']\n",
      "['IFSC Youth World Championships - Arco (ITA) 2019', 'European Youth Championships (B) - Brussels (BEL) 2018', 'IFSC Climbing Worldcup (B) - Meiringen (SUI) 2019']\n",
      "-------------------------------------------------------\n",
      "['TUV', 'CYM', 'AIA']\n",
      "[nan, 'PG', 'PG-13']\n",
      "['PG', 'R', 'R']\n",
      "['GER', 'SUI', 'FRA']\n",
      "['AUT', 'ESP', 'JPN']\n",
      "['G', 'R', 'PG-13']\n",
      "['LUX', 'SLO', 'SUI']\n",
      "['G', 'TV-14', 'TV-PG']\n",
      "['GER', 'CZE', 'IRL']\n",
      "[\"O'BRIEN, Jay James\", 'WALL, Kirsten', 'de JONG, Bob']\n",
      "['NED', 'NOR', 'USA']\n",
      "['GAO, Ling', 'CERNIC, Matej', 'BRIGITHA, Enith']\n",
      "['SWE', 'URS', 'BRA']\n",
      "['KARAMI', 'KLINGLER', 'WONG']\n",
      "['BRA', 'SLO', 'USA']\n",
      "['TV-MA', 'PG-13', 'TV-MA']\n",
      "['NFL', 'NHL', 'WNBA']\n",
      "[\"AMERICANS FOR TOMORROW'S FUTURE\", 'Toomey Victory Committee', 'NRSC']\n",
      "['AF', 'AF', 'AS']\n",
      "['HN', 'AS', 'FM']\n",
      "-------------------------------------------------------\n",
      "['The Ranch', 'Grandmaster', 'Canine Intervention']\n",
      "-------------------------------------------------------\n",
      "['Matt Jones, Noureen DeWulf, John Ducey, Matty Cardarople, Jeff Fahey, Christina Moore, Gabriel Tigerman, Ali Afshar, Tyler Jacob Moore, Jessica Serfaty', 'Prakash Bare, Arun Kumar, Kulappulli Leela, Sangeetha Mohan, Kochu Preman', 'Afonso Padilha']\n",
      "-------------------------------------------------------\n",
      "[52.0, 772.0, 312.0]\n",
      "['2009-03-13', '1988-11-11', '2004-10-01']\n",
      "[1, 46, 7]\n",
      "[24006726, 415004880, 173005002]\n",
      "[64959548, 32298812, 6654819]\n",
      "[548, 249, 448]\n",
      "[38.7197, 26.0325, 42.3369]\n",
      "[5.97139, 7.40194, 6.9475]\n",
      "['3', '332', '6']\n",
      "[249348933, 378882411, 260696994]\n",
      "['2005-06-29', '1992-07-01', '2007-11-20']\n",
      "[324700, 971198, 733035]\n",
      "[30000000, 75000000, 125000000]\n",
      "[6.7, 7.2, 6.7]\n",
      "[667362.0, 787732.0, 363144.0]\n",
      "[727557746, 87067072, 36162949]\n",
      "[104, 88, 141]\n",
      "['22 - 31 August 2019', '18 - 21 August 2019', '22 - 31 August 2019']\n",
      "['2/12/84', '1/22/88', '7/1/85']\n",
      "[1.84, 1.64, 1.53]\n",
      "[57.0, 59.0, 57.0]\n",
      "['9.56411.', '30.', '14.']\n",
      "['2.', '28.', '4.']\n",
      "['12.', '33.', '30+11.']\n",
      "[0, 0, 0]\n",
      "['s736', 's840', 's1290']\n",
      "[272.0, 20592.0, 390.0]\n",
      "[17, 3, 6]\n",
      "[0, 0, 0]\n",
      "[111, 341, 24796]\n",
      "[0, 0, 0]\n",
      "[101258.0, 8503918.81, 1355092.35]\n",
      "[2000, 2018, 2003]\n",
      "[10, 2, 1]\n",
      "['November 12, 2019', 'November 12, 2019', 'November 12, 2021']\n",
      "['28 - 29 April 2018', '27 - 28 April 2019', '28 - 29 April 2018']\n",
      "[34701, 2596, 50421]\n",
      "[366.0, 351.0, 295.0]\n",
      "[49, 45, 2]\n",
      "[106288.65, 114207.06, 88443.76]\n",
      "[nan, nan, '2T4z24']\n",
      "[1968, 1984, 2000]\n",
      "['12 - 13 May 2018', '3 - 5 May 2019', '22 - 31 August 2019']\n",
      "[83, 44, 54]\n",
      "[6, 62, 29]\n",
      "['6.960', '19.327', '12.711']\n",
      "['$2,700', '$5,400', '$1,000']\n",
      "[2018, 2016, 2020]\n",
      "[10237959, 10136157, 10006075]\n",
      "[1749, 903, 1999]\n",
      "[7, 5, 5]\n",
      "[2017, 2021, 2012]\n",
      "[204.06, 2500.0, 27095.48]\n",
      "[1430071.63, 0.0, 0.0]\n",
      "[42, 8, 550]\n",
      "[8, 1, 2828]\n",
      "[413, 337, 651]\n",
      "['December 18, 2008', 'December 22, 2000', 'May 20, 2009']\n",
      "[89143175, 139854287, 206445654]\n",
      "[89491916, 289409488, 129964083]\n",
      "[181216833, 1104054072, 483866518]\n",
      "['22 - 31 August 2019', '16 - 17 June 2018', '9 - 16 August 2018']\n",
      "[234.0, 57.0, 40.0]\n",
      "[5, 123, 5]\n",
      "['31+12.,31+12.,31+12.,31+12.', '34+7.,34+7.,34+7.,34+7.,34+7.,34+7.,34+7.,34+7.', '18+62.,18+62.,18+62.,18+62.,18+62.,18+62.,18+62.,18+62.']\n",
      "['26+21.,26+21.,26+21.,26+21.', 'Top1.,Top1.,Top1.,Top1.,Top1.,Top1.,Top1.,Top1.', '41+10.,41+10.,41+10.,41+10.']\n",
      "[58.45, 36.78, 23.98]\n",
      "[2014, 1960, 2014]\n",
      "['s6371', 's690', 's6892']\n",
      "['November 20, 2019', 'December 1, 2020', 'October 30, 2018']\n",
      "[2005, 2019, 2018]\n",
      "-------------------------------------------------------\n",
      "['Jennifer Hale, Rob Paulsen, Corey Burton, Andre Stojka, Russi Taylor, Susanne Blakeslee', 'Angela Bassett, Joanna Lumley, Anne Archer, Debi Derryberry, Kevin Richardson, Alice Ghostley', 'Larry the Cable Guy , Keith Ferguson, Michael Wallis, Mach Kobayashi, Robert Ito']\n",
      "-------------------------------------------------------\n",
      "['Surrogates', 'The Crew', 'Inside Out']\n",
      "['Adventure', 'Adventure', 'Adventure']\n",
      "['hungaroring', 'hockenheimring', 'okayama']\n",
      "['Nivelles-Baulers', 'AutÃ³dromo Hermanos RodrÃ\\xadguez', 'Sebring International Raceway']\n",
      "['Buenos Aires', 'California', 'Spielberg']\n",
      "['USA', 'USA', 'Canada']\n",
      "['Oz: The Great and Powerful', 'The Dark Knight Rises', \"Harry Potter and the Sorcerer's Stone\"]\n",
      "['tennis', 'wrestling', 'athletics']\n",
      "['jumps', 'freestyle', 'judo']\n",
      "['Group All-Around', 'Women -57kg', 'Men']\n",
      "['female', 'female', 'male']\n",
      "['Olympic Stadium', 'Fort Copacabana', 'Mountain Bike Centre']\n",
      "['Comedy', 'Crime', 'Mystery']\n",
      "['Yeseida Carrillo', 'Ihor Olefirenko', 'Facundo Callioni']\n",
      "['Emi', 'Tua', 'Adam']\n",
      "['male', 'male', 'male']\n",
      "['football', 'cycling', 'gymnastics']\n",
      "['Movie', 'Movie', 'Movie']\n",
      "['Future-Worm!', 'Out of Scale', 'Prairie Dog Manor']\n",
      "['Jon Turteltaub', 'Theodore Thomas', 'Greg Beeman']\n",
      "['combined', 'combined', 'combined']\n",
      "['United States, Canada', nan, 'United States']\n",
      "['GameTV', 'Wildcard Gaming', 'Team Atlantis']\n",
      "['Counter-Strike: Global Offensive', 'Arena of Valor', 'League of Legends']\n",
      "['1 Season', '81 min', '103 min']\n",
      "['Concert Film, Documentary, Music', 'Animals & Nature, Documentary, Family', 'Action-Adventure, Animation, Comedy']\n",
      "['First-Person Shooter', 'First-Person Shooter', 'Multiplayer Online Battle Arena']\n",
      "['Anna', 'Anselmo', 'Mariana']\n",
      "['Trinks', 'Chen', 'Kozlovski']\n",
      "['us', 'th', 'de']\n",
      "['Arena of Valor', 'PUBG', 'Fortnite']\n",
      "['Multiplayer Online Battle Arena', 'Strategy', 'Collectible Card Game']\n",
      "['Melbourne / Stockholm', 'London', 'Los Angeles']\n",
      "['Hockey', 'Hockey', 'Athletics']\n",
      "['ldering', 'boulder', 'boulder']\n",
      "['Cycling Road', 'Swimming', 'Athletics']\n",
      "['Jan', 'Di', 'Lev']\n",
      "['Men', 'Women', 'Women']\n",
      "['100M Backstroke', 'Pairs', 'Team Competition']\n",
      "['Gold', 'Silver', 'Silver']\n",
      "['Jody Allen (Paul G. Allen Trust)', 'Peter Karmanos Jr.', 'Josh Harris']\n",
      "['LA Clippers', 'Baltimore Orioles', 'Kansas City Chiefs']\n",
      "['Democrat', 'Republican', 'Democrat']\n",
      "['speed', 'speed', 'speed']\n",
      "['Indian Terrain Men Blue & Maroon Slim Fit Checked Smart Casual Linen Shirt', 'ether Women Coffee Brown Solid Open Toe Flats', 'OBSESSIONS Off-White Reversible Bathmat']\n",
      "['Sonari', 'Park Avenue', 'Indian Terrain']\n",
      "['Boys', 'Women', 'Women']\n",
      "['Blue', 'Blue', 'Black']\n",
      "['Pro Evolution Soccer 3', 'PokkÃ©n Tournament DX', 'Arcana Heart 3']\n",
      "['Sports', 'Sports', 'Fighting Game']\n",
      "['The Blair Witch Project (1999)', 'Back to the Future Part II (1989)', 'Ford v Ferrari (2019)']\n",
      "['DreamWorks Distribution', 'Universal Pictures', 'Paramount Pictures']\n",
      "[\"['Comedy']\", \"['Drama']\", \"['Adventure', 'Animation', 'Comedy', 'Family', 'Fantasy']\"]\n",
      "['1 hr 56 min', '1 hr 31 min', '1 hr 38 min']\n",
      "['Timofei', 'Å\\xa0imon', 'Yuki']\n",
      "['lead', 'lead', 'lead']\n",
      "['Albertville', 'Nagano', 'Salt Lake City']\n",
      "['Skating', 'Skating', 'Ice Hockey']\n",
      "['Cross Country Skiing', 'Short Track Speed Skating', 'Figure skating']\n",
      "['Women', 'Men', 'Men']\n",
      "['Sprint 1.5KM', 'Team', '4X7.5KM Relay']\n",
      "['Silver', 'Bronze', 'Gold']\n",
      "['Movie', 'Movie', 'Movie']\n",
      "['Niyi Akinmolayan', 'Gregory Hoblit', nan]\n",
      "['United States', 'India', 'United Kingdom, United States, France']\n",
      "['1 Season', '95 min', '12 min']\n",
      "['Documentaries', 'Action & Adventure, Dramas, International Movies', 'Comedies, Dramas, International Movies']\n",
      "['Asia', 'Oceania', 'Africa']\n",
      "['United States of America', 'Lebanon, Lebanese Republic', 'Pakistan, Islamic Republic of']\n",
      "-------------------------------------------------------\n",
      "['Santa Claus passes his magic bag to a new St. Nic.', \"Filmmakers go in search of Atlantis using Plato's writings as a guide to lead the way.\", 'The North Carolina Zoo has more than 1,000 animals that live in lush natural habitats.']\n",
      "-------------------------------------------------------\n",
      "['Eugene', 'Sang Hyeon', 'Timothy']\n",
      "-------------------------------------------------------\n",
      "['tobi', 'Fear', 'merryday']\n",
      "-------------------------------------------------------\n"
     ]
    }
   ],
   "source": [
    "for key in dict_:\n",
    "    for i in dict_[key]:\n",
    "        print(random.sample(i, 3))\n",
    "    print('-------------------------------------------------------')"
   ]
  },
  {
   "cell_type": "code",
   "execution_count": 95,
   "metadata": {},
   "outputs": [
    {
     "ename": "OSError",
     "evalue": "[E050] Can't find model 'ner'. It doesn't seem to be a Python package or a valid path to a data directory.",
     "output_type": "error",
     "traceback": [
      "\u001b[0;31m---------------------------------------------------------------------------\u001b[0m",
      "\u001b[0;31mOSError\u001b[0m                                   Traceback (most recent call last)",
      "Cell \u001b[0;32mIn[95], line 4\u001b[0m\n\u001b[1;32m      1\u001b[0m \u001b[39mimport\u001b[39;00m \u001b[39mspacy\u001b[39;00m\n\u001b[1;32m      3\u001b[0m \u001b[39m# Load the Spacy model\u001b[39;00m\n\u001b[0;32m----> 4\u001b[0m nlp \u001b[39m=\u001b[39m spacy\u001b[39m.\u001b[39;49mload(\u001b[39m\"\u001b[39;49m\u001b[39mner\u001b[39;49m\u001b[39m\"\u001b[39;49m)\n\u001b[1;32m      5\u001b[0m nlp\u001b[39m.\u001b[39mpipeline\n\u001b[1;32m      6\u001b[0m \u001b[39m# # Print the names and descriptions of all named entity types\u001b[39;00m\n\u001b[1;32m      7\u001b[0m \u001b[39m# for ent_type in nlp.pipe_labels['ner']:\u001b[39;00m\n\u001b[1;32m      8\u001b[0m \u001b[39m#     print(ent_type, spacy.explain(ent_type))\u001b[39;00m\n\u001b[0;32m   (...)\u001b[0m\n\u001b[1;32m     11\u001b[0m \u001b[39m# for g in l:\u001b[39;00m\n\u001b[1;32m     12\u001b[0m \u001b[39m#     print(nlp(g).ents)\u001b[39;00m\n",
      "File \u001b[0;32m~/opt/anaconda3/envs/Error-Detection-at-Scale/lib/python3.9/site-packages/spacy/__init__.py:54\u001b[0m, in \u001b[0;36mload\u001b[0;34m(name, vocab, disable, enable, exclude, config)\u001b[0m\n\u001b[1;32m     30\u001b[0m \u001b[39mdef\u001b[39;00m \u001b[39mload\u001b[39m(\n\u001b[1;32m     31\u001b[0m     name: Union[\u001b[39mstr\u001b[39m, Path],\n\u001b[1;32m     32\u001b[0m     \u001b[39m*\u001b[39m,\n\u001b[0;32m   (...)\u001b[0m\n\u001b[1;32m     37\u001b[0m     config: Union[Dict[\u001b[39mstr\u001b[39m, Any], Config] \u001b[39m=\u001b[39m util\u001b[39m.\u001b[39mSimpleFrozenDict(),\n\u001b[1;32m     38\u001b[0m ) \u001b[39m-\u001b[39m\u001b[39m>\u001b[39m Language:\n\u001b[1;32m     39\u001b[0m \u001b[39m    \u001b[39m\u001b[39m\"\"\"Load a spaCy model from an installed package or a local path.\u001b[39;00m\n\u001b[1;32m     40\u001b[0m \n\u001b[1;32m     41\u001b[0m \u001b[39m    name (str): Package name or model path.\u001b[39;00m\n\u001b[0;32m   (...)\u001b[0m\n\u001b[1;32m     52\u001b[0m \u001b[39m    RETURNS (Language): The loaded nlp object.\u001b[39;00m\n\u001b[1;32m     53\u001b[0m \u001b[39m    \"\"\"\u001b[39;00m\n\u001b[0;32m---> 54\u001b[0m     \u001b[39mreturn\u001b[39;00m util\u001b[39m.\u001b[39;49mload_model(\n\u001b[1;32m     55\u001b[0m         name,\n\u001b[1;32m     56\u001b[0m         vocab\u001b[39m=\u001b[39;49mvocab,\n\u001b[1;32m     57\u001b[0m         disable\u001b[39m=\u001b[39;49mdisable,\n\u001b[1;32m     58\u001b[0m         enable\u001b[39m=\u001b[39;49menable,\n\u001b[1;32m     59\u001b[0m         exclude\u001b[39m=\u001b[39;49mexclude,\n\u001b[1;32m     60\u001b[0m         config\u001b[39m=\u001b[39;49mconfig,\n\u001b[1;32m     61\u001b[0m     )\n",
      "File \u001b[0;32m~/opt/anaconda3/envs/Error-Detection-at-Scale/lib/python3.9/site-packages/spacy/util.py:439\u001b[0m, in \u001b[0;36mload_model\u001b[0;34m(name, vocab, disable, enable, exclude, config)\u001b[0m\n\u001b[1;32m    437\u001b[0m \u001b[39mif\u001b[39;00m name \u001b[39min\u001b[39;00m OLD_MODEL_SHORTCUTS:\n\u001b[1;32m    438\u001b[0m     \u001b[39mraise\u001b[39;00m \u001b[39mIOError\u001b[39;00m(Errors\u001b[39m.\u001b[39mE941\u001b[39m.\u001b[39mformat(name\u001b[39m=\u001b[39mname, full\u001b[39m=\u001b[39mOLD_MODEL_SHORTCUTS[name]))  \u001b[39m# type: ignore[index]\u001b[39;00m\n\u001b[0;32m--> 439\u001b[0m \u001b[39mraise\u001b[39;00m \u001b[39mIOError\u001b[39;00m(Errors\u001b[39m.\u001b[39mE050\u001b[39m.\u001b[39mformat(name\u001b[39m=\u001b[39mname))\n",
      "\u001b[0;31mOSError\u001b[0m: [E050] Can't find model 'ner'. It doesn't seem to be a Python package or a valid path to a data directory."
     ]
    }
   ],
   "source": [
    "import spacy\n",
    "\n",
    "# Load the Spacy model\n",
    "nlp = spacy.load(\"ner\")\n",
    "nlp.pipeline\n",
    "# # Print the names and descriptions of all named entity types\n",
    "# for ent_type in nlp.pipe_labels['ner']:\n",
    "#     print(ent_type, spacy.explain(ent_type))\n",
    "\n",
    "# l = ['Non Fiction', 'Fiction', 'Non Fiction', 'Fiction', 'Fiction']\n",
    "# for g in l:\n",
    "#     print(nlp(g).ents)"
   ]
  },
  {
   "cell_type": "code",
   "execution_count": 102,
   "metadata": {},
   "outputs": [
    {
     "name": "stdout",
     "output_type": "stream",
     "text": [
      "Two CARDINAL\n",
      "1948 - 1977 DATE\n",
      "Amazing Spider-Girl PERSON\n",
      "2006 - 2009 DATE\n",
      "The Amazing Spider-Man ORG\n",
      "1963 - 1998 DATE\n",
      "Uncanny X-Men PERSON\n",
      "2011 - 2012 DATE\n"
     ]
    }
   ],
   "source": [
    "from spacy.pipeline.ner import DEFAULT_NER_MODEL\n",
    "config = {\n",
    "   \"moves\": None,\n",
    "   \"update_with_oracle_cut_size\": 100,\n",
    "   \"model\": DEFAULT_NER_MODEL,\n",
    "   \"incorrect_spans_key\": \"incorrect_spans\",\n",
    "}\n",
    "l = ['Two-Gun Kid (1948 - 1977)', 'Amazing Spider-Girl (2006 - 2009)', 'The Amazing Spider-Man (1963 - 1998)', 'Uncanny X-Men (2011 - 2012)', \"X-Men '92 (2016)\"]\n",
    "\n",
    "for g in l:\n",
    "    for e in nlp(g).ents:\n",
    "         print(e.text, e.label_)\n"
   ]
  },
  {
   "cell_type": "code",
   "execution_count": 29,
   "metadata": {},
   "outputs": [],
   "source": [
    "c = ['Angie Grace', 'George R.R. Martin', 'Marty Noble', 'School Zone', 'Amy Shields', 'William P. Young', 'Rick Riordan', 'Kristin Hannah', 'Gallup', 'J.K. Rowling']"
   ]
  },
  {
   "cell_type": "code",
   "execution_count": 30,
   "metadata": {},
   "outputs": [
    {
     "name": "stdout",
     "output_type": "stream",
     "text": [
      "Angie Grace PERSON\n",
      "George R.R. Martin PERSON\n",
      "Marty Noble PERSON\n",
      "Amy Shields PERSON\n",
      "William P. Young PERSON\n",
      "Rick Riordan PERSON\n",
      "Kristin Hannah PERSON\n",
      "Gallup ORG\n",
      "J.K. GPE\n"
     ]
    }
   ],
   "source": [
    "for d in c:\n",
    "    d = nlp(d)\n",
    "    for ent in d.ents:\n",
    "        print(ent.text, ent.label_)"
   ]
  },
  {
   "cell_type": "code",
   "execution_count": null,
   "metadata": {},
   "outputs": [],
   "source": []
  }
 ],
 "metadata": {
  "kernelspec": {
   "display_name": "Error-Detection-at-Scale",
   "language": "python",
   "name": "python3"
  },
  "language_info": {
   "codemirror_mode": {
    "name": "ipython",
    "version": 3
   },
   "file_extension": ".py",
   "mimetype": "text/x-python",
   "name": "python",
   "nbconvert_exporter": "python",
   "pygments_lexer": "ipython3",
   "version": "3.9.15"
  },
  "orig_nbformat": 4,
  "vscode": {
   "interpreter": {
    "hash": "5394c91fb5c1371d52b9e1755fc7c5897f0d08c29c1797ff77a01cb59e334106"
   }
  }
 },
 "nbformat": 4,
 "nbformat_minor": 2
}
