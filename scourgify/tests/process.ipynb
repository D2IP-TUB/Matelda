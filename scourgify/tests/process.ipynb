{
 "cells": [
  {
   "cell_type": "code",
   "execution_count": 1,
   "metadata": {},
   "outputs": [],
   "source": [
    "import pandas as pd\n",
    "import pickle\n",
    "import random \n",
    "dict_ = pickle.load(open('/Users/fatemehahmadi/Documents/Github-Private/ED-Scale/scourgify/mediate_files/cols_per_cluster_sel.pkl', 'rb'))"
   ]
  },
  {
   "cell_type": "code",
   "execution_count": 2,
   "metadata": {},
   "outputs": [
    {
     "data": {
      "text/plain": [
       "dict_keys([0, 1, 2, 3, 4, 5, 6])"
      ]
     },
     "execution_count": 2,
     "metadata": {},
     "output_type": "execute_result"
    }
   ],
   "source": [
    "dict_.keys()"
   ]
  },
  {
   "cell_type": "code",
   "execution_count": 9,
   "metadata": {},
   "outputs": [
    {
     "name": "stdout",
     "output_type": "stream",
     "text": [
      "['The Insider', 'Portrait de la jeune fille en feu', 'Le notti di Cabiria']\n",
      "['Todd Phillips', 'Alfonso Cuarón', 'Steven Spielberg']\n",
      "['Rajesh Khanna', 'Harrison Ford', 'Jim Carrey']\n",
      "['Jan Sterling', 'Alec Guinness', 'Ulrich Mühe']\n",
      "['Richard Farnsworth', \"Beverly D'Angelo\", 'Sigourney Weaver']\n",
      "['Mina Sadati', 'Matthew McConaughey', 'Charles Durning']\n"
     ]
    }
   ],
   "source": [
    "for i in dict_[5]:\n",
    "    print(random.sample(i, 3))"
   ]
  },
  {
   "cell_type": "code",
   "execution_count": null,
   "metadata": {},
   "outputs": [],
   "source": []
  }
 ],
 "metadata": {
  "kernelspec": {
   "display_name": "Error-Detection-at-Scale",
   "language": "python",
   "name": "python3"
  },
  "language_info": {
   "codemirror_mode": {
    "name": "ipython",
    "version": 3
   },
   "file_extension": ".py",
   "mimetype": "text/x-python",
   "name": "python",
   "nbconvert_exporter": "python",
   "pygments_lexer": "ipython3",
   "version": "3.9.15"
  },
  "orig_nbformat": 4,
  "vscode": {
   "interpreter": {
    "hash": "5394c91fb5c1371d52b9e1755fc7c5897f0d08c29c1797ff77a01cb59e334106"
   }
  }
 },
 "nbformat": 4,
 "nbformat_minor": 2
}
