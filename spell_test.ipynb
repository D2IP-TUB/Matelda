{
 "cells": [
  {
   "cell_type": "code",
   "execution_count": 2,
   "metadata": {},
   "outputs": [
    {
     "name": "stdout",
     "output_type": "stream",
     "text": [
      "Time taken: 0.07102680206298828\n",
      "Misspelled words: ['qoyso', 'hpsywt', 'nvqpw', 'ffjtig', 'ojr', 'svz', 'azwxnvuh', 'vnw', 'sphoez', 'eogn', 'kscsiscnk', 'jfxzivrqgn', 'sjdmqjila', 'ccecjtwmod', 'zzcwspablt', 'qwxmzjzrof', 'fghxetqh', 'djpdrvptdn', 'wloduuqoau', 'tsvexs', 'jsgwrkvj', 'senb', 'xeyarbhir', 'ruw', 'pgebag', 'bxkgluumz', 'uxdus', 'uyio', 'obhlojfh', 'mkubmi', 'yjkspbqzz', 'llz', 'qaxjcrzt', 'pjjlxnqqbp', 'hhklxk', 'goclxwmdjq', 'tboakl', 'hsf', 'kdvqc', 'jndp', 'qnoikxvpkg', 'ejjsiahw', 'lpsauji', 'iacumbugpp', 'qgngq', 'sjhjgawbw', 'xhqbiwxu', 'uxbmuillcz', 'cxu', 'uejm', 'kbxz', 'gqpufkaa', 'aigvlow', 'awuee', 'gpdvkz', 'pvthprsp', 'fwhslfwpb', 'felnvi', 'oiuwqgu', 'kvkirtu', 'epqyxdz', 'ofxbzwuv', 'qovxjh', 'vzmnser', 'nwmgbx', 'avpculqbi', 'nqfptn', 'wragqbr', 'xwjdhtxe', 'bxeaxw', 'bopdsxdbki', 'lgyujw', 'awfg', 'lepqnicph', 'czj', 'kezzoyq', 'yzugelgj', 'oignt', 'tqxgxyxj', 'asihizbq', 'koyjv', 'enhpo', 'qhgnjd', 'qogi', 'jxozgpfp', 'dcmxyve', 'oqgjso', 'lvnu', 'vkjw', 'gawvwzl', 'ylki', 'tjifiit', 'gjelyyik', 'exwh', 'nntgvapp', 'cncjrupguo', 'lagghjj', 'jsaxap', 'wafimnvte', 'lhlske', 'felo', 'hgewggg', 'pmnvw', 'apfr', 'mkkbsf', 'ttsyvab', 'mrsnmonhs', 'iovxy', 'lyufqisk', 'mfxs', 'bjn', 'opxw', 'uilrkvhss', 'bgq', 'otpp', 'mcajiyzss', 'lddj', 'feu', 'xzotvd', 'nyipxdnd', 'rhajvx', 'wruhrkf', 'srj', 'cdbzowh', 'zzh', 'lramehnkx', 'ovwiavziug', 'nnwjygp', 'uucy', 'rpyuyahp', 'rxjhyyodpf', 'kdgdqfgy', 'qug', 'wwgmxz', 'ealfixoqy', 'cexdswo', 'zqloamne', 'tvzu', 'jxlyswoty', 'tsdlmrclxs', 'xgpqcm', 'ivqqwaim', 'putzuogcuk', 'noou', 'nmhum', 'vum', 'fxepelif', 'wxe', 'rcmdbarmi', 'zgakpc', 'xmikhkmuo', 'jvjil', 'gulbnakn', 'ejvgy', 'ceajrjhvoq', 'powl', 'qum', 'npqfhrpp', 'dvfavjcs', 'enigfshojq', 'oukuuq', 'yoqhxdg', 'ifwuxu', 'seatqsomb', 'eqj', 'chustecy', 'ptteu', 'gywenvyvi', 'mueci', 'wmyp', 'rqcsscxqhi', 'sfcgjb', 'ehoxqvvbqk', 'orrzqbj', 'xlynm', 'coc', 'gdy', 'bhfawfwv', 'kwbrm', 'zeorg', 'jfeyrwkbsb', 'nvfkif', 'gof', 'fxtiy', 'xtolbrgr', 'bphym', 'oznke', 'egm', 'xrzzd', 'jzc', 'gmxisxpn', 'jedc', 'msj', 'jyn', 'ntdsuf', 'jidwzojroa', 'yttzglle', 'xhauavzng', 'czkqinvh', 'zwbqhxxaok', 'wrjdwrot', 'vvcfkqy', 'mkzymcpelf', 'gyyhsakavh', 'qomucoftk', 'loomnyzvw', 'vjiuhrc', 'rmdqofldse', 'cms', 'igbb', 'vnp', 'fhdv', 'hsopiqczqf', 'dlysnr', 'dmgippdm', 'lhiyhufq', 'wyhjbysb', 'jsf', 'qkvrgdam', 'ercflvm', 'uwsvdhv', 'beofqswwml', 'kgaif', 'mwglcbta', 'thbz', 'ncruee', 'ndghjqfsp', 'betxu', 'eltgjfz', 'ixwurf', 'smmbqqe', 'rxxtlglicp', 'bapnfx', 'aldat', 'xleydul', 'zcmem', 'snb', 'eyweopeihi', 'grvvtg', 'txspuboie', 'pnnlmvhizi', 'ccbbaoqef', 'sgrjbr', 'rlghcvf', 'glfrucjapm', 'jyrtean', 'gdgvo', 'ysvi', 'azjcgtzf', 'fpovvaway', 'tnzqcu', 'zzqz', 'zpxz', 'kakp', 'hzws', 'sngyt', 'qatazr', 'sblvupm', 'jjgwit', 'ophbeyr', 'dkgbepos', 'qprftnrzg', 'rrqpzrhz', 'wlbe', 'rpez', 'argggqlr', 'uexgxnk', 'ctudnj', 'usyzivwj', 'dhahgtq', 'urianlyzn', 'ivx', 'hsp', 'esz', 'vdh', 'qnys', 'tnylgqtox', 'mdpsc', 'ploq', 'bwsmvbzujg', 'tedcahdr', 'odkwjus', 'tgebwd', 'zzv', 'iqovzmdmhq', 'lmyea', 'rsyioe', 'vxil', 'xalz', 'zuczz', 'rasudzdoz', 'ijoydth', 'qfksp', 'ujmi', 'ujmfny', 'salhvr', 'pnceaz', 'nxxqtds', 'ngpr', 'hjxbtahbj', 'cfr', 'ekgzjc', 'stin', 'rste', 'paezvlaxb', 'mevpz', 'hnybrdsmq', 'jrabgjqxl', 'qgpmcb', 'ivuqengxki', 'pfkocfvafq', 'ykku', 'levpils', 'jfywjxog', 'agvsjd', 'jtmqr', 'fjubeyxbay', 'xvts', 'hehf', 'kulutf', 'gawazyqi', 'hmbrufo', 'mde', 'nssc', 'ibwbm', 'ullo', 'zsxbdsgn', 'uei', 'ixnu', 'poaxcplf', 'jrtqcja', 'ffxjn', 'jnhztzr', 'oqi', 'ekkubecha', 'ccrlfym', 'jrelme', 'ojiwur', 'qkm', 'ssphwe', 'kzdbrkm', 'mpxfvtztxr', 'ympfo', 'ofkzymyjkv', 'oolcr', 'gtoyjecp', 'inqbxlcp', 'iqwwimsj', 'ybr', 'avssujbg', 'oqy', 'zew', 'ncyw', 'blthcox', 'oeogdeqhc', 'tbsnr', 'uaglgufv', 'mounbivfo', 'iokrzam', 'ujfweqd', 'ycvamg', 'grmnquwc', 'agdvkdsyz', 'ejnlnxz', 'iximml', 'fxjss', 'nemdvi', 'qfx', 'ykjiavlc', 'wvcpoe', 'fvozatqrz', 'umtgt', 'wspnsdv', 'xusl', 'rqeo', 'drfv', 'zzcjwfmv', 'pxzkxxvx', 'xph', 'xan', 'mlmjgwurw', 'hijzyha', 'tigwrhf', 'ipnrkw', 'cxrg', 'xsdv', 'xqgk', 'xpea', 'slbnotey', 'arudrzq', 'nmefebeqd', 'fxqxav', 'zjyhlazb', 'qihnkj', 'vgcjz', 'tqtmekbrhg', 'pybpzpzax', 'onzkrutiok', 'nyuv', 'brvutlob', 'piptf', 'gjtjtb', 'kvuvuw', 'jboy', 'jlhwvuzc', 'ckydlngki', 'qqgpu', 'yaja', 'lknoqm', 'uajtzny', 'dnrrwl', 'vnikrxwl', 'qzqcge', 'eguofkhhd', 'mwcb', 'xwt', 'ola', 'bwwpsul', 'zdbwl', 'plauphabc', 'euwt', 'bhzsqdmupt', 'vjc', 'frweng', 'xrwlxhbv', 'addie', 'scytx', 'srilpi', 'ffiikthut', 'lpoobx', 'emonug', 'wgpjixhy', 'ghe', 'ntwyagzpe', 'qssvn', 'tkyn', 'qxmkmv', 'wdqbidz', 'uwavch', 'kcl', 'dnzy', 'qevdwvwp', 'cjzrpw', 'drqctrzbv', 'vkbkowfmjq', 'ctouxlekc', 'ewzydngc', 'spcazean', 'hcwyhdxn', 'majongp', 'aflyr', 'bnlqnjeq', 'xebs', 'qugj', 'lslekhpj', 'yzktzzol', 'vdwxssgo', 'fiomwrvnst', 'zkbzxnhiuh', 'wldajjlooh', 'hfwfym', 'nmfk', 'thtca', 'pyntxhnvj', 'bugrugzkyg', 'qzy', 'kbromlv', 'vqcabs', 'uduzvfnv', 'mlrscr', 'rsxojs', 'tpjwqtmas', 'ibyhyowq', 'oxppu', 'htyshwobgq', 'ufixktrlnc', 'fvaru', 'nirqgxn', 'yzikfleep', 'pyydlx', 'gxiqomwaqw', 'hltzlordl', 'glisjhh', 'ugdk', 'bqongrmur', 'wcttp', 'libik', 'xcodjhll', 'gxv', 'nbnagvgmne', 'jxf', 'yrsehtlbo', 'cowrijo', 'gmklnq', 'rhglcju', 'barallxu', 'dluj', 'dxjpre', 'ays', 'tjjtya', 'tnfv', 'ynzxhqv', 'icta', 'dfkrl', 'vvddwynkhg', 'zywsanv', 'wrejxw', 'kzdlayhrdn', 'wkeb', 'pqqfiazvhg', 'anibosyapm', 'zfvqjjjqb', 'rmtjmdnfb', 'uivoahknd', 'zpuiah', 'ifjuis', 'vlo', 'irbm', 'rfcajdv', 'pcenjiptk', 'tkf', 'assdg', 'rax', 'bwjj', 'mgejzpo', 'cixddfp', 'xykok', 'nigsmljkll', 'gvmlofsv', 'srkjcsvjto', 'gawtwyyy', 'xcc', 'zxf', 'lffkpoulbj', 'ollkxuyl', 'htxkchju', 'kqn', 'igewxr', 'enyoabsmz', 'zatqzjrbfb', 'njejmq', 'wlzagb', 'ywclhsmk', 'byz', 'akrwtglo', 'uicdq', 'wvydjwq', 'mdnfkmnaz', 'abkakyqx', 'vclb', 'wnnydar', 'xjtng', 'fvkumgx', 'ukiegw', 'udpj', 'wse', 'cpdikfcuct', 'tgp', 'teajgnzh', 'twf', 'rvfwk', 'xazt', 'xohqjls', 'uvonaza', 'zvtcil', 'sfwyxf', 'symfijj', 'hdrinztgmm', 'gwnac', 'evmpidez', 'jomsjt', 'eyqufpjkkc', 'skkkcd', 'evg', 'ezxerf', 'glmk', 'hewmamsbzs', 'accfjiksda', 'wrepa', 'fngp', 'uurrgujvy', 'sukgvhm', 'afpfelli', 'vyhpqe', 'dzwzrz', 'oswdh', 'ceaubp', 'krzx', 'gxmqncmxq', 'uujkczs', 'lrqbyvzfyi', 'hful', 'qudnmyfmx', 'dqmyjuzlf', 'tfc', 'flyr', 'vfxot', 'blvvlopax', 'oruuzcc', 'oiu', 'fzhcgrvjce', 'qlac', 'fytodrg', 'qiuorai', 'eieyve', 'qiii', 'ktbqcpymoy', 'eynluepoep', 'zvcfrulqzb', 'bzofwlvg', 'tmpp', 'jfpmvjps', 'icftsjye', 'lazrjon', 'bhsghx', 'codhhg', 'efxxi', 'wolbxv', 'tufb', 'zcq', 'snwcgvkm', 'xveccmhg', 'rthby', 'chulxxuh', 'eoam', 'knmdkntba', 'mpattm', 'nyjitny', 'fmbrgzos', 'dnxifmrix', 'uhb', 'zdscx', 'kto', 'byugab', 'zfh', 'ccj', 'yfreedt', 'nvtubzvaxw', 'uijfvl', 'zhkw', 'rjomxyn', 'wmt', 'iyvamtt', 'gvhboevrb', 'mnhpwadwy', 'tmpzxdwa', 'gzakk', 'riimpibjoh', 'nwyyyawg', 'lhidc', 'irkr', 'tmoamedvgh', 'pfya', 'vsteyflhx', 'jlbjmu', 'mkdxc', 'gjwrlmhyri', 'rvddzizmo', 'wjf', 'xqv', 'bqpaow', 'kbewywyh', 'uyjcrehn', 'aqikjekegj', 'hnwwubodvw', 'zmzr', 'rejaifjzy', 'ailiy', 'otyvi', 'iwidtxsldb', 'vfcumlzuac', 'ohl', 'dectaj', 'kgaglejb', 'nsazc', 'ttb', 'ssgghnv', 'trujikre', 'vhh', 'eam', 'haofd', 'nfzx', 'andoudhe', 'qdvrzcmr', 'pbqkokajt', 'uiphljmw', 'fubkkjcnqo', 'fpdwz', 'otczbais', 'veufwrfgsz', 'ufxkxkm', 'ywqo', 'aponur', 'icxoygza', 'zpocl', 'crsjodrf', 'jfhrwhgor', 'xvrzd', 'bzcs', 'axolbvf', 'hkhezo', 'ygquput', 'fzkqfsmtpy', 'ojm', 'wmxlnp', 'pbeobozoef', 'zvgo', 'brmxoclrm', 'plfevmxde', 'zvr', 'wtmsp', 'fwewv', 'gubmwkjkc', 'uhoiikw', 'gxkidvcp', 'mhsgj', 'utc', 'rasdx', 'idmqgmfodx', 'spcxx', 'kbjbv', 'tof', 'kbvbwnfn', 'uex', 'ebj', 'mhnfco', 'wiylvd', 'hjsztt', 'rlohumciab', 'xnxcsp', 'msw', 'vljaetrib', 'kavejfeewd', 'mmu', 'pmuef', 'hrasn', 'ohddh', 'idiakedfde', 'negohrfy', 'xtfnxong', 'ezyy', 'qrx', 'bkads', 'vxsvjjmau', 'dkpdrgveci', 'gornf', 'lbyomh', 'zbi', 'mxtpdpa', 'osframl', 'xoq', 'zhkzz', 'wdzbqmpsh', 'jpl', 'jelvzb', 'qzlpuamhp', 'rtqne', 'qyldvno', 'rwqqzs', 'aemrsao', 'qubhbdzjx', 'jzmf', 'dzysx', 'vtviwdnpa', 'wnay', 'kydmbayg', 'nsprdqzvz', 'cgl', 'egwsjgetze', 'vnpgyzgypf', 'dovsl', 'yfujsi', 'fvueuhvqy', 'mkbxrc', 'dxtxn', 'ifbk', 'eotijbzmnr', 'faksgxtvst', 'yhy', 'ivwnzb', 'lsdavyrfg', 'jjjxbfc', 'czz', 'qtg', 'obpaowxuoz', 'mzn', 'lugk', 'pvfejgnfsw', 'tuijsovwmg', 'kqynobuszb', 'aettzaopet', 'tkcwgapg', 'phrvskt', 'pyk', 'boek', 'owqwv', 'wumofsjkax', 'qnru', 'ozc', 'qbrdijbkr', 'lwj', 'kfyyulkde', 'ittrgracx', 'mhphcefs', 'opbjf', 'dicpsxksph', 'mainam', 'qfo', 'bqxbzwq', 'xlgfnuuyfb', 'aibooyj', 'rrjzxvxf', 'jjavygploa', 'vpk', 'hxxghb', 'xcafg', 'fxnasfhpys', 'bkwhiqizih', 'xcjnwbeggl', 'ilkzzluy', 'bkayvwdh', 'yfyzqqylso', 'kjxipkg', 'zvlouzgwbh', 'svxlv', 'diyfapeml', 'plrvu', 'tveeodqvr', 'ukm', 'mszvquel', 'aem', 'quuoe', 'mqptmp', 'wfsy', 'tukkh', 'omv', 'hziv', 'erugqx', 'dfyfytjfp', 'yhe', 'wclpivn', 'lxesbeeyt', 'yyclrntbhm', 'elvkklaen', 'vvgvsfkdd', 'eyw', 'eewxll', 'nsit', 'tijhedlfz', 'bpnqqr', 'xkb', 'ydrqejnpk', 'hdrtxn', 'hwf', 'pduzbev', 'yhwfbzs', 'ggebpj', 'osypuhbzzz', 'deesmhbh', 'leeybrkg', 'uay', 'lqlpugkjo', 'wckwer', 'smstmop', 'ofomle', 'xtlsmidr', 'uec', 'gaexrzmj', 'raoygjhli', 'iuioky', 'dqehxpwu', 'yvszkvg', 'hwcrquoze', 'xjkwwrp', 'dvno', 'ijhcdgpoqp', 'ykauhhdtdv', 'piflcu', 'jxx', 'spyv', 'ydr', 'zfvbhnis', 'fvkpims', 'abgce', 'chxbs', 'mydmrrdze', 'ckzan', 'nrbk', 'bzqml', 'evhs', 'wkuivpxcz', 'kzynyiy', 'etbn', 'bjwaqpkhr', 'wtteo', 'kiyrbur', 'eakrijd', 'nqlqwgt', 'lncithjhbw', 'zkdu', 'mlzmd', 'pbqkkmn', 'wpvflrzni', 'rbtxpmhm', 'pvemnlrct', 'jkrjpkbjdd', 'bggsy', 'karqx', 'uux', 'gwncc', 'znc', 'zqevbmeyhu', 'xufli', 'wgbomis', 'uve', 'sgg', 'gowyb', 'stxl', 'theg', 'iso', 'uyuh', 'ndcy', 'ikkcb', 'wemfbq', 'pxkl', 'ypjcxagdrq', 'escehab', 'mtuxplpy', 'aal', 'iiiown', 'ykbuhicm', 'wforuxaeq', 'pmjr', 'xkvxoew', 'wyhogklsq', 'mmprioyffk', 'bnb', 'fujcrhetb', 'capavuwdrz', 'vcrti', 'qynj', 'vaxzr', 'edvpp', 'myirdmnugb', 'jxwqf', 'ljozfrghcz', 'bgzow', 'vymucw', 'nznc', 'fuqonbwrol', 'tbyayftiz', 'dqtcgyven', 'jbzxlv', 'jiihlwqroe', 'qlatkekk', 'bpl', 'actis', 'uinp', 'rrcemsskfi', 'vmmtuaaswh', 'digug', 'gcb', 'rkl', 'rhfhzj', 'dtzlytpjnq', 'ytsu', 'fnceglau', 'ynfrbshkf', 'whgaffibaj', 'uhstjlgw', 'nsvktnnnl', 'wvflglcmlb', 'htkj', 'xhgjfpta', 'fqfzqaikhp', 'nlwn', 'vuaiwjey', 'iwq', 'vzgydtwdv', 'hqvgnko', 'smau', 'jmiff', 'ciif', 'bciz', 'chbhuhyh', 'pbptqoz', 'kkgshufr', 'bhfdlyh', 'ppiuvjdego', 'cxsrjjfqee', 'hphcvtxi', 'jidqqqjn', 'ordmb', 'wtg', 'ntyscvti']\n"
     ]
    }
   ],
   "source": [
    "import subprocess\n",
    "\n",
    "def check_spelling(words, checker='aspell'):\n",
    "    # Prepare the input for the subprocess\n",
    "    input_text = \"\\n\".join(words)\n",
    "    # Run the spell checker as a subprocess\n",
    "    result = subprocess.run([checker, 'list'], input=input_text, text=True, capture_output=True)\n",
    "    # The output contains misspelled words, one per line\n",
    "    return result.stdout.splitlines()\n",
    "\n",
    "# Generate words and check spelling in batches\n",
    "def check_words_in_batches(words, batch_size=1000):\n",
    "    misspelled = []\n",
    "    for i in range(0, len(words), batch_size):\n",
    "        batch = words[i:i+batch_size]\n",
    "        misspelled.extend(check_spelling(batch))\n",
    "    return misspelled\n",
    "\n",
    "words_to_check = generate_random_words(1000)\n",
    "\n",
    "import time\n",
    "t = time.time()\n",
    "misspelled = check_words_in_batches(words_to_check, batch_size=100)\n",
    "print(\"Time taken:\", time.time() - t)\n",
    "print(\"Misspelled words:\", misspelled)\n"
   ]
  },
  {
   "cell_type": "code",
   "execution_count": 1,
   "metadata": {},
   "outputs": [],
   "source": [
    "import random\n",
    "import string\n",
    "\n",
    "def generate_random_words(n):\n",
    "    words = []\n",
    "    for _ in range(n):\n",
    "        length = random.randint(3, 10)  # Random word length between 3 and 10 characters\n",
    "        word = ''.join(random.choices(string.ascii_lowercase, k=length))\n",
    "        words.append(word)\n",
    "    return words\n",
    "\n",
    "# Usage example:\n",
    "# random_words = generate_random_words(1000)\n",
    "# print(random_words)  # This will print 1000 random words\n"
   ]
  },
  {
   "cell_type": "code",
   "execution_count": 5,
   "metadata": {},
   "outputs": [
    {
     "data": {
      "text/plain": [
       "1"
      ]
     },
     "execution_count": 5,
     "metadata": {},
     "output_type": "execute_result"
    }
   ],
   "source": [
    "import subprocess\n",
    "def check_spelling(word, checker='aspell'):\n",
    "    command = [checker, 'list']\n",
    "    result = subprocess.run(command, input=word, text=True, capture_output=True)\n",
    "    if result.stdout.strip():\n",
    "        return 1 \n",
    "    else:\n",
    "        return 0  \n",
    "    \n",
    "\n",
    "check_spelling('writee')"
   ]
  },
  {
   "cell_type": "code",
   "execution_count": null,
   "metadata": {},
   "outputs": [],
   "source": []
  }
 ],
 "metadata": {
  "kernelspec": {
   "display_name": "Error-Detection-at-Scale-mp",
   "language": "python",
   "name": "python3"
  },
  "language_info": {
   "codemirror_mode": {
    "name": "ipython",
    "version": 3
   },
   "file_extension": ".py",
   "mimetype": "text/x-python",
   "name": "python",
   "nbconvert_exporter": "python",
   "pygments_lexer": "ipython3",
   "version": "3.10.12"
  }
 },
 "nbformat": 4,
 "nbformat_minor": 2
}
